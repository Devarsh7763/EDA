{
 "cells": [
  {
   "cell_type": "code",
   "execution_count": 1,
   "id": "871e68f7",
   "metadata": {},
   "outputs": [],
   "source": [
    "from sklearn.pipeline import Pipeline\n",
    "#feature scaling\n",
    "from sklearn.preprocessing import StandardScaler \n",
    "from sklearn.linear_model import LogisticRegression"
   ]
  },
  {
   "cell_type": "code",
   "execution_count": 2,
   "id": "e4ac3f18",
   "metadata": {},
   "outputs": [],
   "source": [
    "steps=[(\"standard_Scaler\",StandardScaler()),\n",
    "      (\"classifier\",LogisticRegression())]"
   ]
  },
  {
   "cell_type": "code",
   "execution_count": 3,
   "id": "625fbcee",
   "metadata": {},
   "outputs": [
    {
     "data": {
      "text/plain": [
       "[('standard_Scaler', StandardScaler()), ('classifier', LogisticRegression())]"
      ]
     },
     "execution_count": 3,
     "metadata": {},
     "output_type": "execute_result"
    }
   ],
   "source": [
    "steps\n"
   ]
  },
  {
   "cell_type": "code",
   "execution_count": 14,
   "id": "56b6519d",
   "metadata": {},
   "outputs": [],
   "source": [
    "pipe=Pipeline(steps)"
   ]
  },
  {
   "cell_type": "code",
   "execution_count": 5,
   "id": "86d5eb24",
   "metadata": {},
   "outputs": [],
   "source": [
    "##visulizate pipeline set_config\n",
    "from sklearn import set_config"
   ]
  },
  {
   "cell_type": "code",
   "execution_count": 6,
   "id": "028826c0",
   "metadata": {},
   "outputs": [],
   "source": [
    "set_config(display=\"diagram\")"
   ]
  },
  {
   "cell_type": "code",
   "execution_count": 7,
   "id": "bfc6b1a4",
   "metadata": {},
   "outputs": [
    {
     "data": {
      "text/html": [
       "<style>#sk-7b7b78d4-2bd9-4b74-b88c-85627a25ea85 {color: black;background-color: white;}#sk-7b7b78d4-2bd9-4b74-b88c-85627a25ea85 pre{padding: 0;}#sk-7b7b78d4-2bd9-4b74-b88c-85627a25ea85 div.sk-toggleable {background-color: white;}#sk-7b7b78d4-2bd9-4b74-b88c-85627a25ea85 label.sk-toggleable__label {cursor: pointer;display: block;width: 100%;margin-bottom: 0;padding: 0.2em 0.3em;box-sizing: border-box;text-align: center;}#sk-7b7b78d4-2bd9-4b74-b88c-85627a25ea85 div.sk-toggleable__content {max-height: 0;max-width: 0;overflow: hidden;text-align: left;background-color: #f0f8ff;}#sk-7b7b78d4-2bd9-4b74-b88c-85627a25ea85 div.sk-toggleable__content pre {margin: 0.2em;color: black;border-radius: 0.25em;background-color: #f0f8ff;}#sk-7b7b78d4-2bd9-4b74-b88c-85627a25ea85 input.sk-toggleable__control:checked~div.sk-toggleable__content {max-height: 200px;max-width: 100%;overflow: auto;}#sk-7b7b78d4-2bd9-4b74-b88c-85627a25ea85 div.sk-estimator input.sk-toggleable__control:checked~label.sk-toggleable__label {background-color: #d4ebff;}#sk-7b7b78d4-2bd9-4b74-b88c-85627a25ea85 div.sk-label input.sk-toggleable__control:checked~label.sk-toggleable__label {background-color: #d4ebff;}#sk-7b7b78d4-2bd9-4b74-b88c-85627a25ea85 input.sk-hidden--visually {border: 0;clip: rect(1px 1px 1px 1px);clip: rect(1px, 1px, 1px, 1px);height: 1px;margin: -1px;overflow: hidden;padding: 0;position: absolute;width: 1px;}#sk-7b7b78d4-2bd9-4b74-b88c-85627a25ea85 div.sk-estimator {font-family: monospace;background-color: #f0f8ff;margin: 0.25em 0.25em;border: 1px dotted black;border-radius: 0.25em;box-sizing: border-box;}#sk-7b7b78d4-2bd9-4b74-b88c-85627a25ea85 div.sk-estimator:hover {background-color: #d4ebff;}#sk-7b7b78d4-2bd9-4b74-b88c-85627a25ea85 div.sk-parallel-item::after {content: \"\";width: 100%;border-bottom: 1px solid gray;flex-grow: 1;}#sk-7b7b78d4-2bd9-4b74-b88c-85627a25ea85 div.sk-label:hover label.sk-toggleable__label {background-color: #d4ebff;}#sk-7b7b78d4-2bd9-4b74-b88c-85627a25ea85 div.sk-serial::before {content: \"\";position: absolute;border-left: 1px solid gray;box-sizing: border-box;top: 2em;bottom: 0;left: 50%;}#sk-7b7b78d4-2bd9-4b74-b88c-85627a25ea85 div.sk-serial {display: flex;flex-direction: column;align-items: center;background-color: white;}#sk-7b7b78d4-2bd9-4b74-b88c-85627a25ea85 div.sk-item {z-index: 1;}#sk-7b7b78d4-2bd9-4b74-b88c-85627a25ea85 div.sk-parallel {display: flex;align-items: stretch;justify-content: center;background-color: white;}#sk-7b7b78d4-2bd9-4b74-b88c-85627a25ea85 div.sk-parallel-item {display: flex;flex-direction: column;position: relative;background-color: white;}#sk-7b7b78d4-2bd9-4b74-b88c-85627a25ea85 div.sk-parallel-item:first-child::after {align-self: flex-end;width: 50%;}#sk-7b7b78d4-2bd9-4b74-b88c-85627a25ea85 div.sk-parallel-item:last-child::after {align-self: flex-start;width: 50%;}#sk-7b7b78d4-2bd9-4b74-b88c-85627a25ea85 div.sk-parallel-item:only-child::after {width: 0;}#sk-7b7b78d4-2bd9-4b74-b88c-85627a25ea85 div.sk-dashed-wrapped {border: 1px dashed gray;margin: 0.2em;box-sizing: border-box;padding-bottom: 0.1em;background-color: white;position: relative;}#sk-7b7b78d4-2bd9-4b74-b88c-85627a25ea85 div.sk-label label {font-family: monospace;font-weight: bold;background-color: white;display: inline-block;line-height: 1.2em;}#sk-7b7b78d4-2bd9-4b74-b88c-85627a25ea85 div.sk-label-container {position: relative;z-index: 2;text-align: center;}#sk-7b7b78d4-2bd9-4b74-b88c-85627a25ea85 div.sk-container {display: inline-block;position: relative;}</style><div id=\"sk-7b7b78d4-2bd9-4b74-b88c-85627a25ea85\" class\"sk-top-container\"><div class=\"sk-container\"><div class=\"sk-item sk-dashed-wrapped\"><div class=\"sk-label-container\"><div class=\"sk-label sk-toggleable\"><input class=\"sk-toggleable__control sk-hidden--visually\" id=\"a85878ed-dc3a-4140-912e-51682787db69\" type=\"checkbox\" ><label class=\"sk-toggleable__label\" for=\"a85878ed-dc3a-4140-912e-51682787db69\">Pipeline</label><div class=\"sk-toggleable__content\"><pre>Pipeline(steps=[('standard_Scaler', StandardScaler()),\n",
       "                ('classifier', LogisticRegression())])</pre></div></div></div><div class=\"sk-serial\"><div class=\"sk-item\"><div class=\"sk-estimator sk-toggleable\"><input class=\"sk-toggleable__control sk-hidden--visually\" id=\"ecdc0dbe-889b-462e-9570-2ebf6329280a\" type=\"checkbox\" ><label class=\"sk-toggleable__label\" for=\"ecdc0dbe-889b-462e-9570-2ebf6329280a\">StandardScaler</label><div class=\"sk-toggleable__content\"><pre>StandardScaler()</pre></div></div></div><div class=\"sk-item\"><div class=\"sk-estimator sk-toggleable\"><input class=\"sk-toggleable__control sk-hidden--visually\" id=\"7d27a9a0-12ac-4028-a5f9-710436ece004\" type=\"checkbox\" ><label class=\"sk-toggleable__label\" for=\"7d27a9a0-12ac-4028-a5f9-710436ece004\">LogisticRegression</label><div class=\"sk-toggleable__content\"><pre>LogisticRegression()</pre></div></div></div></div></div></div></div>"
      ],
      "text/plain": [
       "Pipeline(steps=[('standard_Scaler', StandardScaler()),\n",
       "                ('classifier', LogisticRegression())])"
      ]
     },
     "execution_count": 7,
     "metadata": {},
     "output_type": "execute_result"
    }
   ],
   "source": [
    "pipe\n"
   ]
  },
  {
   "cell_type": "code",
   "execution_count": 8,
   "id": "93089bae",
   "metadata": {},
   "outputs": [],
   "source": [
    "#creating a data set using sklearn\n",
    "from sklearn.datasets import make_classification\n",
    "x,y=make_classification(n_samples=200)"
   ]
  },
  {
   "cell_type": "code",
   "execution_count": 9,
   "id": "b64aee71",
   "metadata": {},
   "outputs": [
    {
     "data": {
      "text/plain": [
       "(200, 20)"
      ]
     },
     "execution_count": 9,
     "metadata": {},
     "output_type": "execute_result"
    }
   ],
   "source": [
    "x.shape"
   ]
  },
  {
   "cell_type": "code",
   "execution_count": 10,
   "id": "d918f12e",
   "metadata": {},
   "outputs": [
    {
     "data": {
      "text/plain": [
       "array([[-3.60791626e-01,  2.18680741e+00,  1.69330196e-03, ...,\n",
       "         2.84550214e-01,  1.50349867e+00,  1.45561993e+00],\n",
       "       [-7.00482699e-01,  5.30525603e-01, -8.42170368e-01, ...,\n",
       "         1.32724458e-01,  8.67428072e-01,  1.04132681e+00],\n",
       "       [-9.35495006e-01,  3.80755213e-01,  6.71802438e-01, ...,\n",
       "        -1.04066380e+00, -8.45267368e-01,  2.84187401e-01],\n",
       "       ...,\n",
       "       [ 9.10426683e-01, -2.74987118e-02, -2.54995574e+00, ...,\n",
       "        -9.49371154e-01, -1.75032638e+00, -4.66983290e-01],\n",
       "       [ 1.49824368e-01,  6.05448176e-01, -4.95220398e-01, ...,\n",
       "        -5.30771623e-01, -2.69245344e-01, -9.13091690e-01],\n",
       "       [-8.82334147e-01, -8.75475541e-01,  2.21023598e-01, ...,\n",
       "         5.08815462e-01, -7.87933397e-01, -1.16099304e+00]])"
      ]
     },
     "execution_count": 10,
     "metadata": {},
     "output_type": "execute_result"
    }
   ],
   "source": [
    "from sklearn.model_selection import train_test_split\n",
    "X_train,X_test,y_train,y_test=train_test_split(x,y,test_size=0.33,random_state=1)\n",
    "X_train"
   ]
  },
  {
   "cell_type": "code",
   "execution_count": 11,
   "id": "c2492abc",
   "metadata": {},
   "outputs": [
    {
     "data": {
      "text/html": [
       "<style>#sk-22273932-a6cf-4e21-b713-ff8befeaf7c0 {color: black;background-color: white;}#sk-22273932-a6cf-4e21-b713-ff8befeaf7c0 pre{padding: 0;}#sk-22273932-a6cf-4e21-b713-ff8befeaf7c0 div.sk-toggleable {background-color: white;}#sk-22273932-a6cf-4e21-b713-ff8befeaf7c0 label.sk-toggleable__label {cursor: pointer;display: block;width: 100%;margin-bottom: 0;padding: 0.2em 0.3em;box-sizing: border-box;text-align: center;}#sk-22273932-a6cf-4e21-b713-ff8befeaf7c0 div.sk-toggleable__content {max-height: 0;max-width: 0;overflow: hidden;text-align: left;background-color: #f0f8ff;}#sk-22273932-a6cf-4e21-b713-ff8befeaf7c0 div.sk-toggleable__content pre {margin: 0.2em;color: black;border-radius: 0.25em;background-color: #f0f8ff;}#sk-22273932-a6cf-4e21-b713-ff8befeaf7c0 input.sk-toggleable__control:checked~div.sk-toggleable__content {max-height: 200px;max-width: 100%;overflow: auto;}#sk-22273932-a6cf-4e21-b713-ff8befeaf7c0 div.sk-estimator input.sk-toggleable__control:checked~label.sk-toggleable__label {background-color: #d4ebff;}#sk-22273932-a6cf-4e21-b713-ff8befeaf7c0 div.sk-label input.sk-toggleable__control:checked~label.sk-toggleable__label {background-color: #d4ebff;}#sk-22273932-a6cf-4e21-b713-ff8befeaf7c0 input.sk-hidden--visually {border: 0;clip: rect(1px 1px 1px 1px);clip: rect(1px, 1px, 1px, 1px);height: 1px;margin: -1px;overflow: hidden;padding: 0;position: absolute;width: 1px;}#sk-22273932-a6cf-4e21-b713-ff8befeaf7c0 div.sk-estimator {font-family: monospace;background-color: #f0f8ff;margin: 0.25em 0.25em;border: 1px dotted black;border-radius: 0.25em;box-sizing: border-box;}#sk-22273932-a6cf-4e21-b713-ff8befeaf7c0 div.sk-estimator:hover {background-color: #d4ebff;}#sk-22273932-a6cf-4e21-b713-ff8befeaf7c0 div.sk-parallel-item::after {content: \"\";width: 100%;border-bottom: 1px solid gray;flex-grow: 1;}#sk-22273932-a6cf-4e21-b713-ff8befeaf7c0 div.sk-label:hover label.sk-toggleable__label {background-color: #d4ebff;}#sk-22273932-a6cf-4e21-b713-ff8befeaf7c0 div.sk-serial::before {content: \"\";position: absolute;border-left: 1px solid gray;box-sizing: border-box;top: 2em;bottom: 0;left: 50%;}#sk-22273932-a6cf-4e21-b713-ff8befeaf7c0 div.sk-serial {display: flex;flex-direction: column;align-items: center;background-color: white;}#sk-22273932-a6cf-4e21-b713-ff8befeaf7c0 div.sk-item {z-index: 1;}#sk-22273932-a6cf-4e21-b713-ff8befeaf7c0 div.sk-parallel {display: flex;align-items: stretch;justify-content: center;background-color: white;}#sk-22273932-a6cf-4e21-b713-ff8befeaf7c0 div.sk-parallel-item {display: flex;flex-direction: column;position: relative;background-color: white;}#sk-22273932-a6cf-4e21-b713-ff8befeaf7c0 div.sk-parallel-item:first-child::after {align-self: flex-end;width: 50%;}#sk-22273932-a6cf-4e21-b713-ff8befeaf7c0 div.sk-parallel-item:last-child::after {align-self: flex-start;width: 50%;}#sk-22273932-a6cf-4e21-b713-ff8befeaf7c0 div.sk-parallel-item:only-child::after {width: 0;}#sk-22273932-a6cf-4e21-b713-ff8befeaf7c0 div.sk-dashed-wrapped {border: 1px dashed gray;margin: 0.2em;box-sizing: border-box;padding-bottom: 0.1em;background-color: white;position: relative;}#sk-22273932-a6cf-4e21-b713-ff8befeaf7c0 div.sk-label label {font-family: monospace;font-weight: bold;background-color: white;display: inline-block;line-height: 1.2em;}#sk-22273932-a6cf-4e21-b713-ff8befeaf7c0 div.sk-label-container {position: relative;z-index: 2;text-align: center;}#sk-22273932-a6cf-4e21-b713-ff8befeaf7c0 div.sk-container {display: inline-block;position: relative;}</style><div id=\"sk-22273932-a6cf-4e21-b713-ff8befeaf7c0\" class\"sk-top-container\"><div class=\"sk-container\"><div class=\"sk-item sk-dashed-wrapped\"><div class=\"sk-label-container\"><div class=\"sk-label sk-toggleable\"><input class=\"sk-toggleable__control sk-hidden--visually\" id=\"49a90250-a272-4432-8f60-5e9361849f30\" type=\"checkbox\" ><label class=\"sk-toggleable__label\" for=\"49a90250-a272-4432-8f60-5e9361849f30\">Pipeline</label><div class=\"sk-toggleable__content\"><pre>Pipeline(steps=[('standard_Scaler', StandardScaler()),\n",
       "                ('classifier', LogisticRegression())])</pre></div></div></div><div class=\"sk-serial\"><div class=\"sk-item\"><div class=\"sk-estimator sk-toggleable\"><input class=\"sk-toggleable__control sk-hidden--visually\" id=\"b6d2467b-c83b-4af9-b7d7-46f0cdb7ae16\" type=\"checkbox\" ><label class=\"sk-toggleable__label\" for=\"b6d2467b-c83b-4af9-b7d7-46f0cdb7ae16\">StandardScaler</label><div class=\"sk-toggleable__content\"><pre>StandardScaler()</pre></div></div></div><div class=\"sk-item\"><div class=\"sk-estimator sk-toggleable\"><input class=\"sk-toggleable__control sk-hidden--visually\" id=\"1d09fe5e-3908-44f7-a213-56550a3e0ae5\" type=\"checkbox\" ><label class=\"sk-toggleable__label\" for=\"1d09fe5e-3908-44f7-a213-56550a3e0ae5\">LogisticRegression</label><div class=\"sk-toggleable__content\"><pre>LogisticRegression()</pre></div></div></div></div></div></div></div>"
      ],
      "text/plain": [
       "Pipeline(steps=[('standard_Scaler', StandardScaler()),\n",
       "                ('classifier', LogisticRegression())])"
      ]
     },
     "execution_count": 11,
     "metadata": {},
     "output_type": "execute_result"
    }
   ],
   "source": [
    "pipe.fit(X_train,y_train)"
   ]
  },
  {
   "cell_type": "code",
   "execution_count": 12,
   "id": "72588629",
   "metadata": {},
   "outputs": [],
   "source": [
    "y_pred=pipe.predict(X_test)"
   ]
  },
  {
   "cell_type": "code",
   "execution_count": 13,
   "id": "646fefe4",
   "metadata": {},
   "outputs": [
    {
     "data": {
      "text/plain": [
       "array([0, 1, 0, 0, 0, 0, 1, 0, 0, 1, 0, 1, 1, 0, 1, 1, 0, 1, 0, 1, 1, 1,\n",
       "       1, 0, 1, 0, 1, 1, 0, 0, 0, 1, 1, 1, 1, 1, 0, 1, 0, 1, 0, 0, 0, 0,\n",
       "       1, 1, 1, 1, 1, 0, 1, 0, 0, 1, 0, 1, 1, 1, 1, 0, 1, 0, 0, 0, 1, 1])"
      ]
     },
     "execution_count": 13,
     "metadata": {},
     "output_type": "execute_result"
    }
   ],
   "source": [
    "y_pred"
   ]
  },
  {
   "cell_type": "code",
   "execution_count": 46,
   "id": "d7b91630",
   "metadata": {},
   "outputs": [],
   "source": [
    "#qn--combing more and more models  and the techniques"
   ]
  },
  {
   "cell_type": "code",
   "execution_count": 17,
   "id": "d662d628",
   "metadata": {},
   "outputs": [],
   "source": [
    "from sklearn.decomposition import PCA\n",
    "from sklearn.svm import SVC"
   ]
  },
  {
   "cell_type": "code",
   "execution_count": 36,
   "id": "d6a37260",
   "metadata": {},
   "outputs": [],
   "source": [
    "steps=[(\"scaling\",StandardScaler()),\n",
    "       (\"PCA\",PCA(n_components=3)),\n",
    "       (\"SVC\",SVC())]"
   ]
  },
  {
   "cell_type": "code",
   "execution_count": 37,
   "id": "7e350b05",
   "metadata": {},
   "outputs": [
    {
     "data": {
      "text/plain": [
       "[('scaling', StandardScaler()), ('PCA', PCA(n_components=3)), ('SVC', SVC())]"
      ]
     },
     "execution_count": 37,
     "metadata": {},
     "output_type": "execute_result"
    }
   ],
   "source": [
    "steps"
   ]
  },
  {
   "cell_type": "code",
   "execution_count": 38,
   "id": "f27eb666",
   "metadata": {},
   "outputs": [],
   "source": [
    "pipe2=Pipeline(steps)"
   ]
  },
  {
   "cell_type": "code",
   "execution_count": 39,
   "id": "44766961",
   "metadata": {},
   "outputs": [
    {
     "data": {
      "text/html": [
       "<style>#sk-69efcc86-3aef-4345-8fc9-40292cdf5fb6 {color: black;background-color: white;}#sk-69efcc86-3aef-4345-8fc9-40292cdf5fb6 pre{padding: 0;}#sk-69efcc86-3aef-4345-8fc9-40292cdf5fb6 div.sk-toggleable {background-color: white;}#sk-69efcc86-3aef-4345-8fc9-40292cdf5fb6 label.sk-toggleable__label {cursor: pointer;display: block;width: 100%;margin-bottom: 0;padding: 0.2em 0.3em;box-sizing: border-box;text-align: center;}#sk-69efcc86-3aef-4345-8fc9-40292cdf5fb6 div.sk-toggleable__content {max-height: 0;max-width: 0;overflow: hidden;text-align: left;background-color: #f0f8ff;}#sk-69efcc86-3aef-4345-8fc9-40292cdf5fb6 div.sk-toggleable__content pre {margin: 0.2em;color: black;border-radius: 0.25em;background-color: #f0f8ff;}#sk-69efcc86-3aef-4345-8fc9-40292cdf5fb6 input.sk-toggleable__control:checked~div.sk-toggleable__content {max-height: 200px;max-width: 100%;overflow: auto;}#sk-69efcc86-3aef-4345-8fc9-40292cdf5fb6 div.sk-estimator input.sk-toggleable__control:checked~label.sk-toggleable__label {background-color: #d4ebff;}#sk-69efcc86-3aef-4345-8fc9-40292cdf5fb6 div.sk-label input.sk-toggleable__control:checked~label.sk-toggleable__label {background-color: #d4ebff;}#sk-69efcc86-3aef-4345-8fc9-40292cdf5fb6 input.sk-hidden--visually {border: 0;clip: rect(1px 1px 1px 1px);clip: rect(1px, 1px, 1px, 1px);height: 1px;margin: -1px;overflow: hidden;padding: 0;position: absolute;width: 1px;}#sk-69efcc86-3aef-4345-8fc9-40292cdf5fb6 div.sk-estimator {font-family: monospace;background-color: #f0f8ff;margin: 0.25em 0.25em;border: 1px dotted black;border-radius: 0.25em;box-sizing: border-box;}#sk-69efcc86-3aef-4345-8fc9-40292cdf5fb6 div.sk-estimator:hover {background-color: #d4ebff;}#sk-69efcc86-3aef-4345-8fc9-40292cdf5fb6 div.sk-parallel-item::after {content: \"\";width: 100%;border-bottom: 1px solid gray;flex-grow: 1;}#sk-69efcc86-3aef-4345-8fc9-40292cdf5fb6 div.sk-label:hover label.sk-toggleable__label {background-color: #d4ebff;}#sk-69efcc86-3aef-4345-8fc9-40292cdf5fb6 div.sk-serial::before {content: \"\";position: absolute;border-left: 1px solid gray;box-sizing: border-box;top: 2em;bottom: 0;left: 50%;}#sk-69efcc86-3aef-4345-8fc9-40292cdf5fb6 div.sk-serial {display: flex;flex-direction: column;align-items: center;background-color: white;}#sk-69efcc86-3aef-4345-8fc9-40292cdf5fb6 div.sk-item {z-index: 1;}#sk-69efcc86-3aef-4345-8fc9-40292cdf5fb6 div.sk-parallel {display: flex;align-items: stretch;justify-content: center;background-color: white;}#sk-69efcc86-3aef-4345-8fc9-40292cdf5fb6 div.sk-parallel-item {display: flex;flex-direction: column;position: relative;background-color: white;}#sk-69efcc86-3aef-4345-8fc9-40292cdf5fb6 div.sk-parallel-item:first-child::after {align-self: flex-end;width: 50%;}#sk-69efcc86-3aef-4345-8fc9-40292cdf5fb6 div.sk-parallel-item:last-child::after {align-self: flex-start;width: 50%;}#sk-69efcc86-3aef-4345-8fc9-40292cdf5fb6 div.sk-parallel-item:only-child::after {width: 0;}#sk-69efcc86-3aef-4345-8fc9-40292cdf5fb6 div.sk-dashed-wrapped {border: 1px dashed gray;margin: 0.2em;box-sizing: border-box;padding-bottom: 0.1em;background-color: white;position: relative;}#sk-69efcc86-3aef-4345-8fc9-40292cdf5fb6 div.sk-label label {font-family: monospace;font-weight: bold;background-color: white;display: inline-block;line-height: 1.2em;}#sk-69efcc86-3aef-4345-8fc9-40292cdf5fb6 div.sk-label-container {position: relative;z-index: 2;text-align: center;}#sk-69efcc86-3aef-4345-8fc9-40292cdf5fb6 div.sk-container {display: inline-block;position: relative;}</style><div id=\"sk-69efcc86-3aef-4345-8fc9-40292cdf5fb6\" class\"sk-top-container\"><div class=\"sk-container\"><div class=\"sk-item sk-dashed-wrapped\"><div class=\"sk-label-container\"><div class=\"sk-label sk-toggleable\"><input class=\"sk-toggleable__control sk-hidden--visually\" id=\"85ce0355-be69-42c1-a802-4a69405a1bab\" type=\"checkbox\" ><label class=\"sk-toggleable__label\" for=\"85ce0355-be69-42c1-a802-4a69405a1bab\">Pipeline</label><div class=\"sk-toggleable__content\"><pre>Pipeline(steps=[('scaling', StandardScaler()), ('PCA', PCA(n_components=3)),\n",
       "                ('SVC', SVC())])</pre></div></div></div><div class=\"sk-serial\"><div class=\"sk-item\"><div class=\"sk-estimator sk-toggleable\"><input class=\"sk-toggleable__control sk-hidden--visually\" id=\"dc05e6be-3d89-481c-a3b6-716b0a68aa27\" type=\"checkbox\" ><label class=\"sk-toggleable__label\" for=\"dc05e6be-3d89-481c-a3b6-716b0a68aa27\">StandardScaler</label><div class=\"sk-toggleable__content\"><pre>StandardScaler()</pre></div></div></div><div class=\"sk-item\"><div class=\"sk-estimator sk-toggleable\"><input class=\"sk-toggleable__control sk-hidden--visually\" id=\"15f6ea76-9582-4efb-a701-808da07c00d2\" type=\"checkbox\" ><label class=\"sk-toggleable__label\" for=\"15f6ea76-9582-4efb-a701-808da07c00d2\">PCA</label><div class=\"sk-toggleable__content\"><pre>PCA(n_components=3)</pre></div></div></div><div class=\"sk-item\"><div class=\"sk-estimator sk-toggleable\"><input class=\"sk-toggleable__control sk-hidden--visually\" id=\"5bd27720-64f1-4e42-ac0e-57585783179c\" type=\"checkbox\" ><label class=\"sk-toggleable__label\" for=\"5bd27720-64f1-4e42-ac0e-57585783179c\">SVC</label><div class=\"sk-toggleable__content\"><pre>SVC()</pre></div></div></div></div></div></div></div>"
      ],
      "text/plain": [
       "Pipeline(steps=[('scaling', StandardScaler()), ('PCA', PCA(n_components=3)),\n",
       "                ('SVC', SVC())])"
      ]
     },
     "execution_count": 39,
     "metadata": {},
     "output_type": "execute_result"
    }
   ],
   "source": [
    "pipe2"
   ]
  },
  {
   "cell_type": "code",
   "execution_count": 41,
   "id": "3880f256",
   "metadata": {},
   "outputs": [
    {
     "data": {
      "text/plain": [
       "array([[-0.41967873,  2.57230055,  0.05650491, ...,  0.3865979 ,\n",
       "         1.1012259 ,  1.42817167],\n",
       "       [-0.74711139,  0.61408669, -0.7987283 , ...,  0.22889889,\n",
       "         0.61674599,  1.03163823],\n",
       "       [-0.97364282,  0.43701389,  0.73564256, ..., -0.9898809 ,\n",
       "        -0.68777358,  0.30695543],\n",
       "       ...,\n",
       "       [ 0.8056652 , -0.04566272, -2.52952301, ..., -0.89505667,\n",
       "        -1.3771356 , -0.41201451],\n",
       "       [ 0.0725107 ,  0.70266728, -0.44710381, ..., -0.46026398,\n",
       "        -0.24903124, -0.8389994 ],\n",
       "       [-0.92240037, -1.04822157,  0.27879029, ...,  0.61953866,\n",
       "        -0.64410365, -1.07627386]])"
      ]
     },
     "execution_count": 41,
     "metadata": {},
     "output_type": "execute_result"
    }
   ],
   "source": [
    "pipe2['scaling'].fit_transform(X_train)"
   ]
  },
  {
   "cell_type": "code",
   "execution_count": 42,
   "id": "fcfe99c0",
   "metadata": {},
   "outputs": [
    {
     "data": {
      "text/html": [
       "<style>#sk-b3f050b2-7197-41b6-8ca1-6af3b166d194 {color: black;background-color: white;}#sk-b3f050b2-7197-41b6-8ca1-6af3b166d194 pre{padding: 0;}#sk-b3f050b2-7197-41b6-8ca1-6af3b166d194 div.sk-toggleable {background-color: white;}#sk-b3f050b2-7197-41b6-8ca1-6af3b166d194 label.sk-toggleable__label {cursor: pointer;display: block;width: 100%;margin-bottom: 0;padding: 0.2em 0.3em;box-sizing: border-box;text-align: center;}#sk-b3f050b2-7197-41b6-8ca1-6af3b166d194 div.sk-toggleable__content {max-height: 0;max-width: 0;overflow: hidden;text-align: left;background-color: #f0f8ff;}#sk-b3f050b2-7197-41b6-8ca1-6af3b166d194 div.sk-toggleable__content pre {margin: 0.2em;color: black;border-radius: 0.25em;background-color: #f0f8ff;}#sk-b3f050b2-7197-41b6-8ca1-6af3b166d194 input.sk-toggleable__control:checked~div.sk-toggleable__content {max-height: 200px;max-width: 100%;overflow: auto;}#sk-b3f050b2-7197-41b6-8ca1-6af3b166d194 div.sk-estimator input.sk-toggleable__control:checked~label.sk-toggleable__label {background-color: #d4ebff;}#sk-b3f050b2-7197-41b6-8ca1-6af3b166d194 div.sk-label input.sk-toggleable__control:checked~label.sk-toggleable__label {background-color: #d4ebff;}#sk-b3f050b2-7197-41b6-8ca1-6af3b166d194 input.sk-hidden--visually {border: 0;clip: rect(1px 1px 1px 1px);clip: rect(1px, 1px, 1px, 1px);height: 1px;margin: -1px;overflow: hidden;padding: 0;position: absolute;width: 1px;}#sk-b3f050b2-7197-41b6-8ca1-6af3b166d194 div.sk-estimator {font-family: monospace;background-color: #f0f8ff;margin: 0.25em 0.25em;border: 1px dotted black;border-radius: 0.25em;box-sizing: border-box;}#sk-b3f050b2-7197-41b6-8ca1-6af3b166d194 div.sk-estimator:hover {background-color: #d4ebff;}#sk-b3f050b2-7197-41b6-8ca1-6af3b166d194 div.sk-parallel-item::after {content: \"\";width: 100%;border-bottom: 1px solid gray;flex-grow: 1;}#sk-b3f050b2-7197-41b6-8ca1-6af3b166d194 div.sk-label:hover label.sk-toggleable__label {background-color: #d4ebff;}#sk-b3f050b2-7197-41b6-8ca1-6af3b166d194 div.sk-serial::before {content: \"\";position: absolute;border-left: 1px solid gray;box-sizing: border-box;top: 2em;bottom: 0;left: 50%;}#sk-b3f050b2-7197-41b6-8ca1-6af3b166d194 div.sk-serial {display: flex;flex-direction: column;align-items: center;background-color: white;}#sk-b3f050b2-7197-41b6-8ca1-6af3b166d194 div.sk-item {z-index: 1;}#sk-b3f050b2-7197-41b6-8ca1-6af3b166d194 div.sk-parallel {display: flex;align-items: stretch;justify-content: center;background-color: white;}#sk-b3f050b2-7197-41b6-8ca1-6af3b166d194 div.sk-parallel-item {display: flex;flex-direction: column;position: relative;background-color: white;}#sk-b3f050b2-7197-41b6-8ca1-6af3b166d194 div.sk-parallel-item:first-child::after {align-self: flex-end;width: 50%;}#sk-b3f050b2-7197-41b6-8ca1-6af3b166d194 div.sk-parallel-item:last-child::after {align-self: flex-start;width: 50%;}#sk-b3f050b2-7197-41b6-8ca1-6af3b166d194 div.sk-parallel-item:only-child::after {width: 0;}#sk-b3f050b2-7197-41b6-8ca1-6af3b166d194 div.sk-dashed-wrapped {border: 1px dashed gray;margin: 0.2em;box-sizing: border-box;padding-bottom: 0.1em;background-color: white;position: relative;}#sk-b3f050b2-7197-41b6-8ca1-6af3b166d194 div.sk-label label {font-family: monospace;font-weight: bold;background-color: white;display: inline-block;line-height: 1.2em;}#sk-b3f050b2-7197-41b6-8ca1-6af3b166d194 div.sk-label-container {position: relative;z-index: 2;text-align: center;}#sk-b3f050b2-7197-41b6-8ca1-6af3b166d194 div.sk-container {display: inline-block;position: relative;}</style><div id=\"sk-b3f050b2-7197-41b6-8ca1-6af3b166d194\" class\"sk-top-container\"><div class=\"sk-container\"><div class=\"sk-item sk-dashed-wrapped\"><div class=\"sk-label-container\"><div class=\"sk-label sk-toggleable\"><input class=\"sk-toggleable__control sk-hidden--visually\" id=\"fb79c782-3b77-4da3-b004-6f7816ca3c77\" type=\"checkbox\" ><label class=\"sk-toggleable__label\" for=\"fb79c782-3b77-4da3-b004-6f7816ca3c77\">Pipeline</label><div class=\"sk-toggleable__content\"><pre>Pipeline(steps=[('scaling', StandardScaler()), ('PCA', PCA(n_components=3)),\n",
       "                ('SVC', SVC())])</pre></div></div></div><div class=\"sk-serial\"><div class=\"sk-item\"><div class=\"sk-estimator sk-toggleable\"><input class=\"sk-toggleable__control sk-hidden--visually\" id=\"f36f0e7b-2ade-4ca3-b1dd-3cc54a92cb4c\" type=\"checkbox\" ><label class=\"sk-toggleable__label\" for=\"f36f0e7b-2ade-4ca3-b1dd-3cc54a92cb4c\">StandardScaler</label><div class=\"sk-toggleable__content\"><pre>StandardScaler()</pre></div></div></div><div class=\"sk-item\"><div class=\"sk-estimator sk-toggleable\"><input class=\"sk-toggleable__control sk-hidden--visually\" id=\"ca49ead1-19dd-4eba-a9a6-befab1b93d8b\" type=\"checkbox\" ><label class=\"sk-toggleable__label\" for=\"ca49ead1-19dd-4eba-a9a6-befab1b93d8b\">PCA</label><div class=\"sk-toggleable__content\"><pre>PCA(n_components=3)</pre></div></div></div><div class=\"sk-item\"><div class=\"sk-estimator sk-toggleable\"><input class=\"sk-toggleable__control sk-hidden--visually\" id=\"0e39f193-ecbf-4826-91af-efb34cc253d4\" type=\"checkbox\" ><label class=\"sk-toggleable__label\" for=\"0e39f193-ecbf-4826-91af-efb34cc253d4\">SVC</label><div class=\"sk-toggleable__content\"><pre>SVC()</pre></div></div></div></div></div></div></div>"
      ],
      "text/plain": [
       "Pipeline(steps=[('scaling', StandardScaler()), ('PCA', PCA(n_components=3)),\n",
       "                ('SVC', SVC())])"
      ]
     },
     "execution_count": 42,
     "metadata": {},
     "output_type": "execute_result"
    }
   ],
   "source": [
    "pipe2.fit(X_train,y_train)"
   ]
  },
  {
   "cell_type": "code",
   "execution_count": 45,
   "id": "8e9632eb",
   "metadata": {},
   "outputs": [
    {
     "data": {
      "text/plain": [
       "array([0, 1, 0, 0, 0, 0, 1, 0, 0, 1, 0, 1, 1, 0, 1, 1, 0, 1, 0, 0, 1, 1,\n",
       "       1, 0, 1, 0, 1, 1, 0, 0, 0, 1, 1, 1, 1, 1, 0, 1, 0, 1, 0, 0, 0, 0,\n",
       "       1, 1, 1, 1, 0, 0, 1, 0, 0, 1, 0, 1, 1, 1, 1, 0, 1, 0, 0, 0, 1, 1])"
      ]
     },
     "execution_count": 45,
     "metadata": {},
     "output_type": "execute_result"
    }
   ],
   "source": [
    "pipe2.predict(X_test)"
   ]
  },
  {
   "cell_type": "code",
   "execution_count": 47,
   "id": "981c97f7",
   "metadata": {},
   "outputs": [],
   "source": [
    "#Qn-3 column transformeer"
   ]
  },
  {
   "cell_type": "raw",
   "id": "df750e39",
   "metadata": {},
   "source": [
    "from sklearn.impute import SimpleImputer\n",
    "import numpy as np"
   ]
  },
  {
   "cell_type": "code",
   "execution_count": 58,
   "id": "4bee472b",
   "metadata": {},
   "outputs": [],
   "source": [
    "#numerical processing\n",
    "num_col=Pipeline(steps=[(\"imputation mean\",SimpleImputer(missing_values=np.nan,strategy=\"mean\")),\n",
    "                        (\"scaler\",StandardScaler())]\n",
    "                )"
   ]
  },
  {
   "cell_type": "code",
   "execution_count": 59,
   "id": "f2b61488",
   "metadata": {},
   "outputs": [
    {
     "data": {
      "text/html": [
       "<style>#sk-df56b55c-e72d-4cf6-a819-56491692ca1a {color: black;background-color: white;}#sk-df56b55c-e72d-4cf6-a819-56491692ca1a pre{padding: 0;}#sk-df56b55c-e72d-4cf6-a819-56491692ca1a div.sk-toggleable {background-color: white;}#sk-df56b55c-e72d-4cf6-a819-56491692ca1a label.sk-toggleable__label {cursor: pointer;display: block;width: 100%;margin-bottom: 0;padding: 0.2em 0.3em;box-sizing: border-box;text-align: center;}#sk-df56b55c-e72d-4cf6-a819-56491692ca1a div.sk-toggleable__content {max-height: 0;max-width: 0;overflow: hidden;text-align: left;background-color: #f0f8ff;}#sk-df56b55c-e72d-4cf6-a819-56491692ca1a div.sk-toggleable__content pre {margin: 0.2em;color: black;border-radius: 0.25em;background-color: #f0f8ff;}#sk-df56b55c-e72d-4cf6-a819-56491692ca1a input.sk-toggleable__control:checked~div.sk-toggleable__content {max-height: 200px;max-width: 100%;overflow: auto;}#sk-df56b55c-e72d-4cf6-a819-56491692ca1a div.sk-estimator input.sk-toggleable__control:checked~label.sk-toggleable__label {background-color: #d4ebff;}#sk-df56b55c-e72d-4cf6-a819-56491692ca1a div.sk-label input.sk-toggleable__control:checked~label.sk-toggleable__label {background-color: #d4ebff;}#sk-df56b55c-e72d-4cf6-a819-56491692ca1a input.sk-hidden--visually {border: 0;clip: rect(1px 1px 1px 1px);clip: rect(1px, 1px, 1px, 1px);height: 1px;margin: -1px;overflow: hidden;padding: 0;position: absolute;width: 1px;}#sk-df56b55c-e72d-4cf6-a819-56491692ca1a div.sk-estimator {font-family: monospace;background-color: #f0f8ff;margin: 0.25em 0.25em;border: 1px dotted black;border-radius: 0.25em;box-sizing: border-box;}#sk-df56b55c-e72d-4cf6-a819-56491692ca1a div.sk-estimator:hover {background-color: #d4ebff;}#sk-df56b55c-e72d-4cf6-a819-56491692ca1a div.sk-parallel-item::after {content: \"\";width: 100%;border-bottom: 1px solid gray;flex-grow: 1;}#sk-df56b55c-e72d-4cf6-a819-56491692ca1a div.sk-label:hover label.sk-toggleable__label {background-color: #d4ebff;}#sk-df56b55c-e72d-4cf6-a819-56491692ca1a div.sk-serial::before {content: \"\";position: absolute;border-left: 1px solid gray;box-sizing: border-box;top: 2em;bottom: 0;left: 50%;}#sk-df56b55c-e72d-4cf6-a819-56491692ca1a div.sk-serial {display: flex;flex-direction: column;align-items: center;background-color: white;}#sk-df56b55c-e72d-4cf6-a819-56491692ca1a div.sk-item {z-index: 1;}#sk-df56b55c-e72d-4cf6-a819-56491692ca1a div.sk-parallel {display: flex;align-items: stretch;justify-content: center;background-color: white;}#sk-df56b55c-e72d-4cf6-a819-56491692ca1a div.sk-parallel-item {display: flex;flex-direction: column;position: relative;background-color: white;}#sk-df56b55c-e72d-4cf6-a819-56491692ca1a div.sk-parallel-item:first-child::after {align-self: flex-end;width: 50%;}#sk-df56b55c-e72d-4cf6-a819-56491692ca1a div.sk-parallel-item:last-child::after {align-self: flex-start;width: 50%;}#sk-df56b55c-e72d-4cf6-a819-56491692ca1a div.sk-parallel-item:only-child::after {width: 0;}#sk-df56b55c-e72d-4cf6-a819-56491692ca1a div.sk-dashed-wrapped {border: 1px dashed gray;margin: 0.2em;box-sizing: border-box;padding-bottom: 0.1em;background-color: white;position: relative;}#sk-df56b55c-e72d-4cf6-a819-56491692ca1a div.sk-label label {font-family: monospace;font-weight: bold;background-color: white;display: inline-block;line-height: 1.2em;}#sk-df56b55c-e72d-4cf6-a819-56491692ca1a div.sk-label-container {position: relative;z-index: 2;text-align: center;}#sk-df56b55c-e72d-4cf6-a819-56491692ca1a div.sk-container {display: inline-block;position: relative;}</style><div id=\"sk-df56b55c-e72d-4cf6-a819-56491692ca1a\" class\"sk-top-container\"><div class=\"sk-container\"><div class=\"sk-item sk-dashed-wrapped\"><div class=\"sk-label-container\"><div class=\"sk-label sk-toggleable\"><input class=\"sk-toggleable__control sk-hidden--visually\" id=\"fbb033b0-f30c-4de8-acc1-fe82b1e19d1f\" type=\"checkbox\" ><label class=\"sk-toggleable__label\" for=\"fbb033b0-f30c-4de8-acc1-fe82b1e19d1f\">Pipeline</label><div class=\"sk-toggleable__content\"><pre>Pipeline(steps=[('imputation mean', SimpleImputer()),\n",
       "                ('scaler', StandardScaler())])</pre></div></div></div><div class=\"sk-serial\"><div class=\"sk-item\"><div class=\"sk-estimator sk-toggleable\"><input class=\"sk-toggleable__control sk-hidden--visually\" id=\"443db693-87b4-4f8c-ad2c-8d093db2bb46\" type=\"checkbox\" ><label class=\"sk-toggleable__label\" for=\"443db693-87b4-4f8c-ad2c-8d093db2bb46\">SimpleImputer</label><div class=\"sk-toggleable__content\"><pre>SimpleImputer()</pre></div></div></div><div class=\"sk-item\"><div class=\"sk-estimator sk-toggleable\"><input class=\"sk-toggleable__control sk-hidden--visually\" id=\"208e6321-fc8e-4c19-98f1-e6453baa240f\" type=\"checkbox\" ><label class=\"sk-toggleable__label\" for=\"208e6321-fc8e-4c19-98f1-e6453baa240f\">StandardScaler</label><div class=\"sk-toggleable__content\"><pre>StandardScaler()</pre></div></div></div></div></div></div></div>"
      ],
      "text/plain": [
       "Pipeline(steps=[('imputation mean', SimpleImputer()),\n",
       "                ('scaler', StandardScaler())])"
      ]
     },
     "execution_count": 59,
     "metadata": {},
     "output_type": "execute_result"
    }
   ],
   "source": [
    "num_col"
   ]
  },
  {
   "cell_type": "code",
   "execution_count": 61,
   "id": "d49bd3ab",
   "metadata": {},
   "outputs": [],
   "source": [
    "#categorical processing\n",
    "from sklearn.preprocessing import OneHotEncoder\n",
    "cate_pro=Pipeline(steps=[(\"imputation constant\",SimpleImputer(fill_value=\"mssing\",strategy=\"constant\")),\n",
    "                        (\"onehot\",OneHotEncoder(handle_unknown=\"ignore\"))]\n",
    "                 )"
   ]
  },
  {
   "cell_type": "code",
   "execution_count": 63,
   "id": "7009f930",
   "metadata": {},
   "outputs": [
    {
     "data": {
      "text/html": [
       "<style>#sk-d6553a62-29fb-40e7-963d-d988514e81b3 {color: black;background-color: white;}#sk-d6553a62-29fb-40e7-963d-d988514e81b3 pre{padding: 0;}#sk-d6553a62-29fb-40e7-963d-d988514e81b3 div.sk-toggleable {background-color: white;}#sk-d6553a62-29fb-40e7-963d-d988514e81b3 label.sk-toggleable__label {cursor: pointer;display: block;width: 100%;margin-bottom: 0;padding: 0.2em 0.3em;box-sizing: border-box;text-align: center;}#sk-d6553a62-29fb-40e7-963d-d988514e81b3 div.sk-toggleable__content {max-height: 0;max-width: 0;overflow: hidden;text-align: left;background-color: #f0f8ff;}#sk-d6553a62-29fb-40e7-963d-d988514e81b3 div.sk-toggleable__content pre {margin: 0.2em;color: black;border-radius: 0.25em;background-color: #f0f8ff;}#sk-d6553a62-29fb-40e7-963d-d988514e81b3 input.sk-toggleable__control:checked~div.sk-toggleable__content {max-height: 200px;max-width: 100%;overflow: auto;}#sk-d6553a62-29fb-40e7-963d-d988514e81b3 div.sk-estimator input.sk-toggleable__control:checked~label.sk-toggleable__label {background-color: #d4ebff;}#sk-d6553a62-29fb-40e7-963d-d988514e81b3 div.sk-label input.sk-toggleable__control:checked~label.sk-toggleable__label {background-color: #d4ebff;}#sk-d6553a62-29fb-40e7-963d-d988514e81b3 input.sk-hidden--visually {border: 0;clip: rect(1px 1px 1px 1px);clip: rect(1px, 1px, 1px, 1px);height: 1px;margin: -1px;overflow: hidden;padding: 0;position: absolute;width: 1px;}#sk-d6553a62-29fb-40e7-963d-d988514e81b3 div.sk-estimator {font-family: monospace;background-color: #f0f8ff;margin: 0.25em 0.25em;border: 1px dotted black;border-radius: 0.25em;box-sizing: border-box;}#sk-d6553a62-29fb-40e7-963d-d988514e81b3 div.sk-estimator:hover {background-color: #d4ebff;}#sk-d6553a62-29fb-40e7-963d-d988514e81b3 div.sk-parallel-item::after {content: \"\";width: 100%;border-bottom: 1px solid gray;flex-grow: 1;}#sk-d6553a62-29fb-40e7-963d-d988514e81b3 div.sk-label:hover label.sk-toggleable__label {background-color: #d4ebff;}#sk-d6553a62-29fb-40e7-963d-d988514e81b3 div.sk-serial::before {content: \"\";position: absolute;border-left: 1px solid gray;box-sizing: border-box;top: 2em;bottom: 0;left: 50%;}#sk-d6553a62-29fb-40e7-963d-d988514e81b3 div.sk-serial {display: flex;flex-direction: column;align-items: center;background-color: white;}#sk-d6553a62-29fb-40e7-963d-d988514e81b3 div.sk-item {z-index: 1;}#sk-d6553a62-29fb-40e7-963d-d988514e81b3 div.sk-parallel {display: flex;align-items: stretch;justify-content: center;background-color: white;}#sk-d6553a62-29fb-40e7-963d-d988514e81b3 div.sk-parallel-item {display: flex;flex-direction: column;position: relative;background-color: white;}#sk-d6553a62-29fb-40e7-963d-d988514e81b3 div.sk-parallel-item:first-child::after {align-self: flex-end;width: 50%;}#sk-d6553a62-29fb-40e7-963d-d988514e81b3 div.sk-parallel-item:last-child::after {align-self: flex-start;width: 50%;}#sk-d6553a62-29fb-40e7-963d-d988514e81b3 div.sk-parallel-item:only-child::after {width: 0;}#sk-d6553a62-29fb-40e7-963d-d988514e81b3 div.sk-dashed-wrapped {border: 1px dashed gray;margin: 0.2em;box-sizing: border-box;padding-bottom: 0.1em;background-color: white;position: relative;}#sk-d6553a62-29fb-40e7-963d-d988514e81b3 div.sk-label label {font-family: monospace;font-weight: bold;background-color: white;display: inline-block;line-height: 1.2em;}#sk-d6553a62-29fb-40e7-963d-d988514e81b3 div.sk-label-container {position: relative;z-index: 2;text-align: center;}#sk-d6553a62-29fb-40e7-963d-d988514e81b3 div.sk-container {display: inline-block;position: relative;}</style><div id=\"sk-d6553a62-29fb-40e7-963d-d988514e81b3\" class\"sk-top-container\"><div class=\"sk-container\"><div class=\"sk-item sk-dashed-wrapped\"><div class=\"sk-label-container\"><div class=\"sk-label sk-toggleable\"><input class=\"sk-toggleable__control sk-hidden--visually\" id=\"fc9de406-033c-4d46-9a66-a3097e852c7b\" type=\"checkbox\" ><label class=\"sk-toggleable__label\" for=\"fc9de406-033c-4d46-9a66-a3097e852c7b\">Pipeline</label><div class=\"sk-toggleable__content\"><pre>Pipeline(steps=[('imputation constant',\n",
       "                 SimpleImputer(fill_value='mssing', strategy='constant')),\n",
       "                ('onehot', OneHotEncoder(handle_unknown='ignore'))])</pre></div></div></div><div class=\"sk-serial\"><div class=\"sk-item\"><div class=\"sk-estimator sk-toggleable\"><input class=\"sk-toggleable__control sk-hidden--visually\" id=\"364da5b3-134f-4b30-90e6-49b32468a0c2\" type=\"checkbox\" ><label class=\"sk-toggleable__label\" for=\"364da5b3-134f-4b30-90e6-49b32468a0c2\">SimpleImputer</label><div class=\"sk-toggleable__content\"><pre>SimpleImputer(fill_value='mssing', strategy='constant')</pre></div></div></div><div class=\"sk-item\"><div class=\"sk-estimator sk-toggleable\"><input class=\"sk-toggleable__control sk-hidden--visually\" id=\"793929c2-64da-444a-bca1-1071707c34a2\" type=\"checkbox\" ><label class=\"sk-toggleable__label\" for=\"793929c2-64da-444a-bca1-1071707c34a2\">OneHotEncoder</label><div class=\"sk-toggleable__content\"><pre>OneHotEncoder(handle_unknown='ignore')</pre></div></div></div></div></div></div></div>"
      ],
      "text/plain": [
       "Pipeline(steps=[('imputation constant',\n",
       "                 SimpleImputer(fill_value='mssing', strategy='constant')),\n",
       "                ('onehot', OneHotEncoder(handle_unknown='ignore'))])"
      ]
     },
     "execution_count": 63,
     "metadata": {},
     "output_type": "execute_result"
    }
   ],
   "source": [
    "cate_pro"
   ]
  },
  {
   "cell_type": "code",
   "execution_count": 65,
   "id": "11a302bd",
   "metadata": {},
   "outputs": [],
   "source": [
    "#combing processing techniques\n",
    "from sklearn.compose import ColumnTransformer"
   ]
  },
  {
   "cell_type": "code",
   "execution_count": 74,
   "id": "22dcdfc0",
   "metadata": {},
   "outputs": [],
   "source": [
    "preprocessor=ColumnTransformer([(\"categorical_processor\",[\"gender\",\"city\",\"nmame\"]),\n",
    "                  (\"numerical\",num_col,[\"age\",\"height\",\"sex\"])]\n",
    "\n",
    "\n",
    ")"
   ]
  },
  {
   "cell_type": "code",
   "execution_count": 75,
   "id": "de5df85f",
   "metadata": {},
   "outputs": [
    {
     "ename": "ValueError",
     "evalue": "not enough values to unpack (expected 3, got 2)",
     "output_type": "error",
     "traceback": [
      "\u001b[1;31m---------------------------------------------------------------------------\u001b[0m",
      "\u001b[1;31mValueError\u001b[0m                                Traceback (most recent call last)",
      "\u001b[1;32m~\\anaconda3\\lib\\site-packages\\IPython\\core\\formatters.py\u001b[0m in \u001b[0;36m__call__\u001b[1;34m(self, obj, include, exclude)\u001b[0m\n\u001b[0;32m    968\u001b[0m \u001b[1;33m\u001b[0m\u001b[0m\n\u001b[0;32m    969\u001b[0m             \u001b[1;32mif\u001b[0m \u001b[0mmethod\u001b[0m \u001b[1;32mis\u001b[0m \u001b[1;32mnot\u001b[0m \u001b[1;32mNone\u001b[0m\u001b[1;33m:\u001b[0m\u001b[1;33m\u001b[0m\u001b[1;33m\u001b[0m\u001b[0m\n\u001b[1;32m--> 970\u001b[1;33m                 \u001b[1;32mreturn\u001b[0m \u001b[0mmethod\u001b[0m\u001b[1;33m(\u001b[0m\u001b[0minclude\u001b[0m\u001b[1;33m=\u001b[0m\u001b[0minclude\u001b[0m\u001b[1;33m,\u001b[0m \u001b[0mexclude\u001b[0m\u001b[1;33m=\u001b[0m\u001b[0mexclude\u001b[0m\u001b[1;33m)\u001b[0m\u001b[1;33m\u001b[0m\u001b[1;33m\u001b[0m\u001b[0m\n\u001b[0m\u001b[0;32m    971\u001b[0m             \u001b[1;32mreturn\u001b[0m \u001b[1;32mNone\u001b[0m\u001b[1;33m\u001b[0m\u001b[1;33m\u001b[0m\u001b[0m\n\u001b[0;32m    972\u001b[0m         \u001b[1;32melse\u001b[0m\u001b[1;33m:\u001b[0m\u001b[1;33m\u001b[0m\u001b[1;33m\u001b[0m\u001b[0m\n",
      "\u001b[1;32m~\\anaconda3\\lib\\site-packages\\sklearn\\base.py\u001b[0m in \u001b[0;36m_repr_mimebundle_\u001b[1;34m(self, **kwargs)\u001b[0m\n\u001b[0;32m    464\u001b[0m         \u001b[0moutput\u001b[0m \u001b[1;33m=\u001b[0m \u001b[1;33m{\u001b[0m\u001b[1;34m\"text/plain\"\u001b[0m\u001b[1;33m:\u001b[0m \u001b[0mrepr\u001b[0m\u001b[1;33m(\u001b[0m\u001b[0mself\u001b[0m\u001b[1;33m)\u001b[0m\u001b[1;33m}\u001b[0m\u001b[1;33m\u001b[0m\u001b[1;33m\u001b[0m\u001b[0m\n\u001b[0;32m    465\u001b[0m         \u001b[1;32mif\u001b[0m \u001b[0mget_config\u001b[0m\u001b[1;33m(\u001b[0m\u001b[1;33m)\u001b[0m\u001b[1;33m[\u001b[0m\u001b[1;34m\"display\"\u001b[0m\u001b[1;33m]\u001b[0m \u001b[1;33m==\u001b[0m \u001b[1;34m'diagram'\u001b[0m\u001b[1;33m:\u001b[0m\u001b[1;33m\u001b[0m\u001b[1;33m\u001b[0m\u001b[0m\n\u001b[1;32m--> 466\u001b[1;33m             \u001b[0moutput\u001b[0m\u001b[1;33m[\u001b[0m\u001b[1;34m\"text/html\"\u001b[0m\u001b[1;33m]\u001b[0m \u001b[1;33m=\u001b[0m \u001b[0mestimator_html_repr\u001b[0m\u001b[1;33m(\u001b[0m\u001b[0mself\u001b[0m\u001b[1;33m)\u001b[0m\u001b[1;33m\u001b[0m\u001b[1;33m\u001b[0m\u001b[0m\n\u001b[0m\u001b[0;32m    467\u001b[0m         \u001b[1;32mreturn\u001b[0m \u001b[0moutput\u001b[0m\u001b[1;33m\u001b[0m\u001b[1;33m\u001b[0m\u001b[0m\n\u001b[0;32m    468\u001b[0m \u001b[1;33m\u001b[0m\u001b[0m\n",
      "\u001b[1;32m~\\anaconda3\\lib\\site-packages\\sklearn\\utils\\_estimator_html_repr.py\u001b[0m in \u001b[0;36mestimator_html_repr\u001b[1;34m(estimator)\u001b[0m\n\u001b[0;32m    312\u001b[0m                   \u001b[1;34mf'<div id=\"{container_id}\" class\"sk-top-container\">'\u001b[0m\u001b[1;33m\u001b[0m\u001b[1;33m\u001b[0m\u001b[0m\n\u001b[0;32m    313\u001b[0m                   '<div class=\"sk-container\">')\n\u001b[1;32m--> 314\u001b[1;33m         _write_estimator_html(out, estimator, estimator.__class__.__name__,\n\u001b[0m\u001b[0;32m    315\u001b[0m                               str(estimator), first_call=True)\n\u001b[0;32m    316\u001b[0m         \u001b[0mout\u001b[0m\u001b[1;33m.\u001b[0m\u001b[0mwrite\u001b[0m\u001b[1;33m(\u001b[0m\u001b[1;34m'</div></div>'\u001b[0m\u001b[1;33m)\u001b[0m\u001b[1;33m\u001b[0m\u001b[1;33m\u001b[0m\u001b[0m\n",
      "\u001b[1;32m~\\anaconda3\\lib\\site-packages\\sklearn\\utils\\_estimator_html_repr.py\u001b[0m in \u001b[0;36m_write_estimator_html\u001b[1;34m(out, estimator, estimator_label, estimator_label_details, first_call)\u001b[0m\n\u001b[0;32m    111\u001b[0m     \"\"\"\n\u001b[0;32m    112\u001b[0m     \u001b[1;32mif\u001b[0m \u001b[0mfirst_call\u001b[0m\u001b[1;33m:\u001b[0m\u001b[1;33m\u001b[0m\u001b[1;33m\u001b[0m\u001b[0m\n\u001b[1;32m--> 113\u001b[1;33m         \u001b[0mest_block\u001b[0m \u001b[1;33m=\u001b[0m \u001b[0m_get_visual_block\u001b[0m\u001b[1;33m(\u001b[0m\u001b[0mestimator\u001b[0m\u001b[1;33m)\u001b[0m\u001b[1;33m\u001b[0m\u001b[1;33m\u001b[0m\u001b[0m\n\u001b[0m\u001b[0;32m    114\u001b[0m     \u001b[1;32melse\u001b[0m\u001b[1;33m:\u001b[0m\u001b[1;33m\u001b[0m\u001b[1;33m\u001b[0m\u001b[0m\n\u001b[0;32m    115\u001b[0m         \u001b[1;32mwith\u001b[0m \u001b[0mconfig_context\u001b[0m\u001b[1;33m(\u001b[0m\u001b[0mprint_changed_only\u001b[0m\u001b[1;33m=\u001b[0m\u001b[1;32mTrue\u001b[0m\u001b[1;33m)\u001b[0m\u001b[1;33m:\u001b[0m\u001b[1;33m\u001b[0m\u001b[1;33m\u001b[0m\u001b[0m\n",
      "\u001b[1;32m~\\anaconda3\\lib\\site-packages\\sklearn\\utils\\_estimator_html_repr.py\u001b[0m in \u001b[0;36m_get_visual_block\u001b[1;34m(estimator)\u001b[0m\n\u001b[0;32m     82\u001b[0m     \"\"\"\n\u001b[0;32m     83\u001b[0m     \u001b[1;32mwith\u001b[0m \u001b[0msuppress\u001b[0m\u001b[1;33m(\u001b[0m\u001b[0mAttributeError\u001b[0m\u001b[1;33m)\u001b[0m\u001b[1;33m:\u001b[0m\u001b[1;33m\u001b[0m\u001b[1;33m\u001b[0m\u001b[0m\n\u001b[1;32m---> 84\u001b[1;33m         \u001b[1;32mreturn\u001b[0m \u001b[0mestimator\u001b[0m\u001b[1;33m.\u001b[0m\u001b[0m_sk_visual_block_\u001b[0m\u001b[1;33m(\u001b[0m\u001b[1;33m)\u001b[0m\u001b[1;33m\u001b[0m\u001b[1;33m\u001b[0m\u001b[0m\n\u001b[0m\u001b[0;32m     85\u001b[0m \u001b[1;33m\u001b[0m\u001b[0m\n\u001b[0;32m     86\u001b[0m     \u001b[1;32mif\u001b[0m \u001b[0misinstance\u001b[0m\u001b[1;33m(\u001b[0m\u001b[0mestimator\u001b[0m\u001b[1;33m,\u001b[0m \u001b[0mstr\u001b[0m\u001b[1;33m)\u001b[0m\u001b[1;33m:\u001b[0m\u001b[1;33m\u001b[0m\u001b[1;33m\u001b[0m\u001b[0m\n",
      "\u001b[1;32m~\\anaconda3\\lib\\site-packages\\sklearn\\compose\\_column_transformer.py\u001b[0m in \u001b[0;36m_sk_visual_block_\u001b[1;34m(self)\u001b[0m\n\u001b[0;32m    617\u001b[0m                                  [('remainder', self.remainder, '')])\n\u001b[0;32m    618\u001b[0m \u001b[1;33m\u001b[0m\u001b[0m\n\u001b[1;32m--> 619\u001b[1;33m         \u001b[0mnames\u001b[0m\u001b[1;33m,\u001b[0m \u001b[0mtransformers\u001b[0m\u001b[1;33m,\u001b[0m \u001b[0mname_details\u001b[0m \u001b[1;33m=\u001b[0m \u001b[0mzip\u001b[0m\u001b[1;33m(\u001b[0m\u001b[1;33m*\u001b[0m\u001b[0mtransformers\u001b[0m\u001b[1;33m)\u001b[0m\u001b[1;33m\u001b[0m\u001b[1;33m\u001b[0m\u001b[0m\n\u001b[0m\u001b[0;32m    620\u001b[0m         return _VisualBlock('parallel', transformers,\n\u001b[0;32m    621\u001b[0m                             names=names, name_details=name_details)\n",
      "\u001b[1;31mValueError\u001b[0m: not enough values to unpack (expected 3, got 2)"
     ]
    },
    {
     "ename": "ValueError",
     "evalue": "not enough values to unpack (expected 3, got 2)",
     "output_type": "error",
     "traceback": [
      "\u001b[1;31m---------------------------------------------------------------------------\u001b[0m",
      "\u001b[1;31mValueError\u001b[0m                                Traceback (most recent call last)",
      "\u001b[1;32m~\\anaconda3\\lib\\site-packages\\IPython\\core\\formatters.py\u001b[0m in \u001b[0;36m__call__\u001b[1;34m(self, obj)\u001b[0m\n\u001b[0;32m    343\u001b[0m             \u001b[0mmethod\u001b[0m \u001b[1;33m=\u001b[0m \u001b[0mget_real_method\u001b[0m\u001b[1;33m(\u001b[0m\u001b[0mobj\u001b[0m\u001b[1;33m,\u001b[0m \u001b[0mself\u001b[0m\u001b[1;33m.\u001b[0m\u001b[0mprint_method\u001b[0m\u001b[1;33m)\u001b[0m\u001b[1;33m\u001b[0m\u001b[1;33m\u001b[0m\u001b[0m\n\u001b[0;32m    344\u001b[0m             \u001b[1;32mif\u001b[0m \u001b[0mmethod\u001b[0m \u001b[1;32mis\u001b[0m \u001b[1;32mnot\u001b[0m \u001b[1;32mNone\u001b[0m\u001b[1;33m:\u001b[0m\u001b[1;33m\u001b[0m\u001b[1;33m\u001b[0m\u001b[0m\n\u001b[1;32m--> 345\u001b[1;33m                 \u001b[1;32mreturn\u001b[0m \u001b[0mmethod\u001b[0m\u001b[1;33m(\u001b[0m\u001b[1;33m)\u001b[0m\u001b[1;33m\u001b[0m\u001b[1;33m\u001b[0m\u001b[0m\n\u001b[0m\u001b[0;32m    346\u001b[0m             \u001b[1;32mreturn\u001b[0m \u001b[1;32mNone\u001b[0m\u001b[1;33m\u001b[0m\u001b[1;33m\u001b[0m\u001b[0m\n\u001b[0;32m    347\u001b[0m         \u001b[1;32melse\u001b[0m\u001b[1;33m:\u001b[0m\u001b[1;33m\u001b[0m\u001b[1;33m\u001b[0m\u001b[0m\n",
      "\u001b[1;32m~\\anaconda3\\lib\\site-packages\\sklearn\\base.py\u001b[0m in \u001b[0;36m_repr_html_inner\u001b[1;34m(self)\u001b[0m\n\u001b[0;32m    458\u001b[0m         \u001b[0mon\u001b[0m\u001b[0;31m \u001b[0m\u001b[0;31m`\u001b[0m\u001b[0mget_config\u001b[0m\u001b[1;33m(\u001b[0m\u001b[1;33m)\u001b[0m\u001b[1;33m[\u001b[0m\u001b[1;34m\"display\"\u001b[0m\u001b[1;33m]\u001b[0m\u001b[0;31m`\u001b[0m\u001b[1;33m.\u001b[0m\u001b[1;33m\u001b[0m\u001b[1;33m\u001b[0m\u001b[0m\n\u001b[0;32m    459\u001b[0m         \"\"\"\n\u001b[1;32m--> 460\u001b[1;33m         \u001b[1;32mreturn\u001b[0m \u001b[0mestimator_html_repr\u001b[0m\u001b[1;33m(\u001b[0m\u001b[0mself\u001b[0m\u001b[1;33m)\u001b[0m\u001b[1;33m\u001b[0m\u001b[1;33m\u001b[0m\u001b[0m\n\u001b[0m\u001b[0;32m    461\u001b[0m \u001b[1;33m\u001b[0m\u001b[0m\n\u001b[0;32m    462\u001b[0m     \u001b[1;32mdef\u001b[0m \u001b[0m_repr_mimebundle_\u001b[0m\u001b[1;33m(\u001b[0m\u001b[0mself\u001b[0m\u001b[1;33m,\u001b[0m \u001b[1;33m**\u001b[0m\u001b[0mkwargs\u001b[0m\u001b[1;33m)\u001b[0m\u001b[1;33m:\u001b[0m\u001b[1;33m\u001b[0m\u001b[1;33m\u001b[0m\u001b[0m\n",
      "\u001b[1;32m~\\anaconda3\\lib\\site-packages\\sklearn\\utils\\_estimator_html_repr.py\u001b[0m in \u001b[0;36mestimator_html_repr\u001b[1;34m(estimator)\u001b[0m\n\u001b[0;32m    312\u001b[0m                   \u001b[1;34mf'<div id=\"{container_id}\" class\"sk-top-container\">'\u001b[0m\u001b[1;33m\u001b[0m\u001b[1;33m\u001b[0m\u001b[0m\n\u001b[0;32m    313\u001b[0m                   '<div class=\"sk-container\">')\n\u001b[1;32m--> 314\u001b[1;33m         _write_estimator_html(out, estimator, estimator.__class__.__name__,\n\u001b[0m\u001b[0;32m    315\u001b[0m                               str(estimator), first_call=True)\n\u001b[0;32m    316\u001b[0m         \u001b[0mout\u001b[0m\u001b[1;33m.\u001b[0m\u001b[0mwrite\u001b[0m\u001b[1;33m(\u001b[0m\u001b[1;34m'</div></div>'\u001b[0m\u001b[1;33m)\u001b[0m\u001b[1;33m\u001b[0m\u001b[1;33m\u001b[0m\u001b[0m\n",
      "\u001b[1;32m~\\anaconda3\\lib\\site-packages\\sklearn\\utils\\_estimator_html_repr.py\u001b[0m in \u001b[0;36m_write_estimator_html\u001b[1;34m(out, estimator, estimator_label, estimator_label_details, first_call)\u001b[0m\n\u001b[0;32m    111\u001b[0m     \"\"\"\n\u001b[0;32m    112\u001b[0m     \u001b[1;32mif\u001b[0m \u001b[0mfirst_call\u001b[0m\u001b[1;33m:\u001b[0m\u001b[1;33m\u001b[0m\u001b[1;33m\u001b[0m\u001b[0m\n\u001b[1;32m--> 113\u001b[1;33m         \u001b[0mest_block\u001b[0m \u001b[1;33m=\u001b[0m \u001b[0m_get_visual_block\u001b[0m\u001b[1;33m(\u001b[0m\u001b[0mestimator\u001b[0m\u001b[1;33m)\u001b[0m\u001b[1;33m\u001b[0m\u001b[1;33m\u001b[0m\u001b[0m\n\u001b[0m\u001b[0;32m    114\u001b[0m     \u001b[1;32melse\u001b[0m\u001b[1;33m:\u001b[0m\u001b[1;33m\u001b[0m\u001b[1;33m\u001b[0m\u001b[0m\n\u001b[0;32m    115\u001b[0m         \u001b[1;32mwith\u001b[0m \u001b[0mconfig_context\u001b[0m\u001b[1;33m(\u001b[0m\u001b[0mprint_changed_only\u001b[0m\u001b[1;33m=\u001b[0m\u001b[1;32mTrue\u001b[0m\u001b[1;33m)\u001b[0m\u001b[1;33m:\u001b[0m\u001b[1;33m\u001b[0m\u001b[1;33m\u001b[0m\u001b[0m\n",
      "\u001b[1;32m~\\anaconda3\\lib\\site-packages\\sklearn\\utils\\_estimator_html_repr.py\u001b[0m in \u001b[0;36m_get_visual_block\u001b[1;34m(estimator)\u001b[0m\n\u001b[0;32m     82\u001b[0m     \"\"\"\n\u001b[0;32m     83\u001b[0m     \u001b[1;32mwith\u001b[0m \u001b[0msuppress\u001b[0m\u001b[1;33m(\u001b[0m\u001b[0mAttributeError\u001b[0m\u001b[1;33m)\u001b[0m\u001b[1;33m:\u001b[0m\u001b[1;33m\u001b[0m\u001b[1;33m\u001b[0m\u001b[0m\n\u001b[1;32m---> 84\u001b[1;33m         \u001b[1;32mreturn\u001b[0m \u001b[0mestimator\u001b[0m\u001b[1;33m.\u001b[0m\u001b[0m_sk_visual_block_\u001b[0m\u001b[1;33m(\u001b[0m\u001b[1;33m)\u001b[0m\u001b[1;33m\u001b[0m\u001b[1;33m\u001b[0m\u001b[0m\n\u001b[0m\u001b[0;32m     85\u001b[0m \u001b[1;33m\u001b[0m\u001b[0m\n\u001b[0;32m     86\u001b[0m     \u001b[1;32mif\u001b[0m \u001b[0misinstance\u001b[0m\u001b[1;33m(\u001b[0m\u001b[0mestimator\u001b[0m\u001b[1;33m,\u001b[0m \u001b[0mstr\u001b[0m\u001b[1;33m)\u001b[0m\u001b[1;33m:\u001b[0m\u001b[1;33m\u001b[0m\u001b[1;33m\u001b[0m\u001b[0m\n",
      "\u001b[1;32m~\\anaconda3\\lib\\site-packages\\sklearn\\compose\\_column_transformer.py\u001b[0m in \u001b[0;36m_sk_visual_block_\u001b[1;34m(self)\u001b[0m\n\u001b[0;32m    617\u001b[0m                                  [('remainder', self.remainder, '')])\n\u001b[0;32m    618\u001b[0m \u001b[1;33m\u001b[0m\u001b[0m\n\u001b[1;32m--> 619\u001b[1;33m         \u001b[0mnames\u001b[0m\u001b[1;33m,\u001b[0m \u001b[0mtransformers\u001b[0m\u001b[1;33m,\u001b[0m \u001b[0mname_details\u001b[0m \u001b[1;33m=\u001b[0m \u001b[0mzip\u001b[0m\u001b[1;33m(\u001b[0m\u001b[1;33m*\u001b[0m\u001b[0mtransformers\u001b[0m\u001b[1;33m)\u001b[0m\u001b[1;33m\u001b[0m\u001b[1;33m\u001b[0m\u001b[0m\n\u001b[0m\u001b[0;32m    620\u001b[0m         return _VisualBlock('parallel', transformers,\n\u001b[0;32m    621\u001b[0m                             names=names, name_details=name_details)\n",
      "\u001b[1;31mValueError\u001b[0m: not enough values to unpack (expected 3, got 2)"
     ]
    },
    {
     "data": {
      "text/plain": [
       "ColumnTransformer(transformers=[('categorical_processor',\n",
       "                                 ['gender', 'city', 'nmame']),\n",
       "                                ('numerical',\n",
       "                                 Pipeline(steps=[('imputation mean',\n",
       "                                                  SimpleImputer()),\n",
       "                                                 ('scaler', StandardScaler())]),\n",
       "                                 ['age', 'height', 'sex'])])"
      ]
     },
     "execution_count": 75,
     "metadata": {},
     "output_type": "execute_result"
    }
   ],
   "source": [
    "preprocessor"
   ]
  },
  {
   "cell_type": "code",
   "execution_count": 80,
   "id": "0ddc26ef",
   "metadata": {},
   "outputs": [],
   "source": [
    "from sklearn.pipeline import make_pipeline"
   ]
  },
  {
   "cell_type": "code",
   "execution_count": 81,
   "id": "55b33f53",
   "metadata": {},
   "outputs": [],
   "source": [
    "pipe=make_pipeline(preprocessor,LogisticRegression())"
   ]
  },
  {
   "cell_type": "code",
   "execution_count": 82,
   "id": "0f876d2b",
   "metadata": {},
   "outputs": [
    {
     "ename": "ValueError",
     "evalue": "not enough values to unpack (expected 3, got 2)",
     "output_type": "error",
     "traceback": [
      "\u001b[1;31m---------------------------------------------------------------------------\u001b[0m",
      "\u001b[1;31mValueError\u001b[0m                                Traceback (most recent call last)",
      "\u001b[1;32m~\\anaconda3\\lib\\site-packages\\IPython\\core\\formatters.py\u001b[0m in \u001b[0;36m__call__\u001b[1;34m(self, obj, include, exclude)\u001b[0m\n\u001b[0;32m    968\u001b[0m \u001b[1;33m\u001b[0m\u001b[0m\n\u001b[0;32m    969\u001b[0m             \u001b[1;32mif\u001b[0m \u001b[0mmethod\u001b[0m \u001b[1;32mis\u001b[0m \u001b[1;32mnot\u001b[0m \u001b[1;32mNone\u001b[0m\u001b[1;33m:\u001b[0m\u001b[1;33m\u001b[0m\u001b[1;33m\u001b[0m\u001b[0m\n\u001b[1;32m--> 970\u001b[1;33m                 \u001b[1;32mreturn\u001b[0m \u001b[0mmethod\u001b[0m\u001b[1;33m(\u001b[0m\u001b[0minclude\u001b[0m\u001b[1;33m=\u001b[0m\u001b[0minclude\u001b[0m\u001b[1;33m,\u001b[0m \u001b[0mexclude\u001b[0m\u001b[1;33m=\u001b[0m\u001b[0mexclude\u001b[0m\u001b[1;33m)\u001b[0m\u001b[1;33m\u001b[0m\u001b[1;33m\u001b[0m\u001b[0m\n\u001b[0m\u001b[0;32m    971\u001b[0m             \u001b[1;32mreturn\u001b[0m \u001b[1;32mNone\u001b[0m\u001b[1;33m\u001b[0m\u001b[1;33m\u001b[0m\u001b[0m\n\u001b[0;32m    972\u001b[0m         \u001b[1;32melse\u001b[0m\u001b[1;33m:\u001b[0m\u001b[1;33m\u001b[0m\u001b[1;33m\u001b[0m\u001b[0m\n",
      "\u001b[1;32m~\\anaconda3\\lib\\site-packages\\sklearn\\base.py\u001b[0m in \u001b[0;36m_repr_mimebundle_\u001b[1;34m(self, **kwargs)\u001b[0m\n\u001b[0;32m    464\u001b[0m         \u001b[0moutput\u001b[0m \u001b[1;33m=\u001b[0m \u001b[1;33m{\u001b[0m\u001b[1;34m\"text/plain\"\u001b[0m\u001b[1;33m:\u001b[0m \u001b[0mrepr\u001b[0m\u001b[1;33m(\u001b[0m\u001b[0mself\u001b[0m\u001b[1;33m)\u001b[0m\u001b[1;33m}\u001b[0m\u001b[1;33m\u001b[0m\u001b[1;33m\u001b[0m\u001b[0m\n\u001b[0;32m    465\u001b[0m         \u001b[1;32mif\u001b[0m \u001b[0mget_config\u001b[0m\u001b[1;33m(\u001b[0m\u001b[1;33m)\u001b[0m\u001b[1;33m[\u001b[0m\u001b[1;34m\"display\"\u001b[0m\u001b[1;33m]\u001b[0m \u001b[1;33m==\u001b[0m \u001b[1;34m'diagram'\u001b[0m\u001b[1;33m:\u001b[0m\u001b[1;33m\u001b[0m\u001b[1;33m\u001b[0m\u001b[0m\n\u001b[1;32m--> 466\u001b[1;33m             \u001b[0moutput\u001b[0m\u001b[1;33m[\u001b[0m\u001b[1;34m\"text/html\"\u001b[0m\u001b[1;33m]\u001b[0m \u001b[1;33m=\u001b[0m \u001b[0mestimator_html_repr\u001b[0m\u001b[1;33m(\u001b[0m\u001b[0mself\u001b[0m\u001b[1;33m)\u001b[0m\u001b[1;33m\u001b[0m\u001b[1;33m\u001b[0m\u001b[0m\n\u001b[0m\u001b[0;32m    467\u001b[0m         \u001b[1;32mreturn\u001b[0m \u001b[0moutput\u001b[0m\u001b[1;33m\u001b[0m\u001b[1;33m\u001b[0m\u001b[0m\n\u001b[0;32m    468\u001b[0m \u001b[1;33m\u001b[0m\u001b[0m\n",
      "\u001b[1;32m~\\anaconda3\\lib\\site-packages\\sklearn\\utils\\_estimator_html_repr.py\u001b[0m in \u001b[0;36mestimator_html_repr\u001b[1;34m(estimator)\u001b[0m\n\u001b[0;32m    312\u001b[0m                   \u001b[1;34mf'<div id=\"{container_id}\" class\"sk-top-container\">'\u001b[0m\u001b[1;33m\u001b[0m\u001b[1;33m\u001b[0m\u001b[0m\n\u001b[0;32m    313\u001b[0m                   '<div class=\"sk-container\">')\n\u001b[1;32m--> 314\u001b[1;33m         _write_estimator_html(out, estimator, estimator.__class__.__name__,\n\u001b[0m\u001b[0;32m    315\u001b[0m                               str(estimator), first_call=True)\n\u001b[0;32m    316\u001b[0m         \u001b[0mout\u001b[0m\u001b[1;33m.\u001b[0m\u001b[0mwrite\u001b[0m\u001b[1;33m(\u001b[0m\u001b[1;34m'</div></div>'\u001b[0m\u001b[1;33m)\u001b[0m\u001b[1;33m\u001b[0m\u001b[1;33m\u001b[0m\u001b[0m\n",
      "\u001b[1;32m~\\anaconda3\\lib\\site-packages\\sklearn\\utils\\_estimator_html_repr.py\u001b[0m in \u001b[0;36m_write_estimator_html\u001b[1;34m(out, estimator, estimator_label, estimator_label_details, first_call)\u001b[0m\n\u001b[0;32m    131\u001b[0m         \u001b[1;32mfor\u001b[0m \u001b[0mest\u001b[0m\u001b[1;33m,\u001b[0m \u001b[0mname\u001b[0m\u001b[1;33m,\u001b[0m \u001b[0mname_details\u001b[0m \u001b[1;32min\u001b[0m \u001b[0mest_infos\u001b[0m\u001b[1;33m:\u001b[0m\u001b[1;33m\u001b[0m\u001b[1;33m\u001b[0m\u001b[0m\n\u001b[0;32m    132\u001b[0m             \u001b[1;32mif\u001b[0m \u001b[0mkind\u001b[0m \u001b[1;33m==\u001b[0m \u001b[1;34m'serial'\u001b[0m\u001b[1;33m:\u001b[0m\u001b[1;33m\u001b[0m\u001b[1;33m\u001b[0m\u001b[0m\n\u001b[1;32m--> 133\u001b[1;33m                 \u001b[0m_write_estimator_html\u001b[0m\u001b[1;33m(\u001b[0m\u001b[0mout\u001b[0m\u001b[1;33m,\u001b[0m \u001b[0mest\u001b[0m\u001b[1;33m,\u001b[0m \u001b[0mname\u001b[0m\u001b[1;33m,\u001b[0m \u001b[0mname_details\u001b[0m\u001b[1;33m)\u001b[0m\u001b[1;33m\u001b[0m\u001b[1;33m\u001b[0m\u001b[0m\n\u001b[0m\u001b[0;32m    134\u001b[0m             \u001b[1;32melse\u001b[0m\u001b[1;33m:\u001b[0m  \u001b[1;31m# parallel\u001b[0m\u001b[1;33m\u001b[0m\u001b[1;33m\u001b[0m\u001b[0m\n\u001b[0;32m    135\u001b[0m                 \u001b[0mout\u001b[0m\u001b[1;33m.\u001b[0m\u001b[0mwrite\u001b[0m\u001b[1;33m(\u001b[0m\u001b[1;34m'<div class=\"sk-parallel-item\">'\u001b[0m\u001b[1;33m)\u001b[0m\u001b[1;33m\u001b[0m\u001b[1;33m\u001b[0m\u001b[0m\n",
      "\u001b[1;32m~\\anaconda3\\lib\\site-packages\\sklearn\\utils\\_estimator_html_repr.py\u001b[0m in \u001b[0;36m_write_estimator_html\u001b[1;34m(out, estimator, estimator_label, estimator_label_details, first_call)\u001b[0m\n\u001b[0;32m    114\u001b[0m     \u001b[1;32melse\u001b[0m\u001b[1;33m:\u001b[0m\u001b[1;33m\u001b[0m\u001b[1;33m\u001b[0m\u001b[0m\n\u001b[0;32m    115\u001b[0m         \u001b[1;32mwith\u001b[0m \u001b[0mconfig_context\u001b[0m\u001b[1;33m(\u001b[0m\u001b[0mprint_changed_only\u001b[0m\u001b[1;33m=\u001b[0m\u001b[1;32mTrue\u001b[0m\u001b[1;33m)\u001b[0m\u001b[1;33m:\u001b[0m\u001b[1;33m\u001b[0m\u001b[1;33m\u001b[0m\u001b[0m\n\u001b[1;32m--> 116\u001b[1;33m             \u001b[0mest_block\u001b[0m \u001b[1;33m=\u001b[0m \u001b[0m_get_visual_block\u001b[0m\u001b[1;33m(\u001b[0m\u001b[0mestimator\u001b[0m\u001b[1;33m)\u001b[0m\u001b[1;33m\u001b[0m\u001b[1;33m\u001b[0m\u001b[0m\n\u001b[0m\u001b[0;32m    117\u001b[0m \u001b[1;33m\u001b[0m\u001b[0m\n\u001b[0;32m    118\u001b[0m     \u001b[1;32mif\u001b[0m \u001b[0mest_block\u001b[0m\u001b[1;33m.\u001b[0m\u001b[0mkind\u001b[0m \u001b[1;32min\u001b[0m \u001b[1;33m(\u001b[0m\u001b[1;34m'serial'\u001b[0m\u001b[1;33m,\u001b[0m \u001b[1;34m'parallel'\u001b[0m\u001b[1;33m)\u001b[0m\u001b[1;33m:\u001b[0m\u001b[1;33m\u001b[0m\u001b[1;33m\u001b[0m\u001b[0m\n",
      "\u001b[1;32m~\\anaconda3\\lib\\site-packages\\sklearn\\utils\\_estimator_html_repr.py\u001b[0m in \u001b[0;36m_get_visual_block\u001b[1;34m(estimator)\u001b[0m\n\u001b[0;32m     82\u001b[0m     \"\"\"\n\u001b[0;32m     83\u001b[0m     \u001b[1;32mwith\u001b[0m \u001b[0msuppress\u001b[0m\u001b[1;33m(\u001b[0m\u001b[0mAttributeError\u001b[0m\u001b[1;33m)\u001b[0m\u001b[1;33m:\u001b[0m\u001b[1;33m\u001b[0m\u001b[1;33m\u001b[0m\u001b[0m\n\u001b[1;32m---> 84\u001b[1;33m         \u001b[1;32mreturn\u001b[0m \u001b[0mestimator\u001b[0m\u001b[1;33m.\u001b[0m\u001b[0m_sk_visual_block_\u001b[0m\u001b[1;33m(\u001b[0m\u001b[1;33m)\u001b[0m\u001b[1;33m\u001b[0m\u001b[1;33m\u001b[0m\u001b[0m\n\u001b[0m\u001b[0;32m     85\u001b[0m \u001b[1;33m\u001b[0m\u001b[0m\n\u001b[0;32m     86\u001b[0m     \u001b[1;32mif\u001b[0m \u001b[0misinstance\u001b[0m\u001b[1;33m(\u001b[0m\u001b[0mestimator\u001b[0m\u001b[1;33m,\u001b[0m \u001b[0mstr\u001b[0m\u001b[1;33m)\u001b[0m\u001b[1;33m:\u001b[0m\u001b[1;33m\u001b[0m\u001b[1;33m\u001b[0m\u001b[0m\n",
      "\u001b[1;32m~\\anaconda3\\lib\\site-packages\\sklearn\\compose\\_column_transformer.py\u001b[0m in \u001b[0;36m_sk_visual_block_\u001b[1;34m(self)\u001b[0m\n\u001b[0;32m    617\u001b[0m                                  [('remainder', self.remainder, '')])\n\u001b[0;32m    618\u001b[0m \u001b[1;33m\u001b[0m\u001b[0m\n\u001b[1;32m--> 619\u001b[1;33m         \u001b[0mnames\u001b[0m\u001b[1;33m,\u001b[0m \u001b[0mtransformers\u001b[0m\u001b[1;33m,\u001b[0m \u001b[0mname_details\u001b[0m \u001b[1;33m=\u001b[0m \u001b[0mzip\u001b[0m\u001b[1;33m(\u001b[0m\u001b[1;33m*\u001b[0m\u001b[0mtransformers\u001b[0m\u001b[1;33m)\u001b[0m\u001b[1;33m\u001b[0m\u001b[1;33m\u001b[0m\u001b[0m\n\u001b[0m\u001b[0;32m    620\u001b[0m         return _VisualBlock('parallel', transformers,\n\u001b[0;32m    621\u001b[0m                             names=names, name_details=name_details)\n",
      "\u001b[1;31mValueError\u001b[0m: not enough values to unpack (expected 3, got 2)"
     ]
    },
    {
     "ename": "ValueError",
     "evalue": "not enough values to unpack (expected 3, got 2)",
     "output_type": "error",
     "traceback": [
      "\u001b[1;31m---------------------------------------------------------------------------\u001b[0m",
      "\u001b[1;31mValueError\u001b[0m                                Traceback (most recent call last)",
      "\u001b[1;32m~\\anaconda3\\lib\\site-packages\\IPython\\core\\formatters.py\u001b[0m in \u001b[0;36m__call__\u001b[1;34m(self, obj)\u001b[0m\n\u001b[0;32m    343\u001b[0m             \u001b[0mmethod\u001b[0m \u001b[1;33m=\u001b[0m \u001b[0mget_real_method\u001b[0m\u001b[1;33m(\u001b[0m\u001b[0mobj\u001b[0m\u001b[1;33m,\u001b[0m \u001b[0mself\u001b[0m\u001b[1;33m.\u001b[0m\u001b[0mprint_method\u001b[0m\u001b[1;33m)\u001b[0m\u001b[1;33m\u001b[0m\u001b[1;33m\u001b[0m\u001b[0m\n\u001b[0;32m    344\u001b[0m             \u001b[1;32mif\u001b[0m \u001b[0mmethod\u001b[0m \u001b[1;32mis\u001b[0m \u001b[1;32mnot\u001b[0m \u001b[1;32mNone\u001b[0m\u001b[1;33m:\u001b[0m\u001b[1;33m\u001b[0m\u001b[1;33m\u001b[0m\u001b[0m\n\u001b[1;32m--> 345\u001b[1;33m                 \u001b[1;32mreturn\u001b[0m \u001b[0mmethod\u001b[0m\u001b[1;33m(\u001b[0m\u001b[1;33m)\u001b[0m\u001b[1;33m\u001b[0m\u001b[1;33m\u001b[0m\u001b[0m\n\u001b[0m\u001b[0;32m    346\u001b[0m             \u001b[1;32mreturn\u001b[0m \u001b[1;32mNone\u001b[0m\u001b[1;33m\u001b[0m\u001b[1;33m\u001b[0m\u001b[0m\n\u001b[0;32m    347\u001b[0m         \u001b[1;32melse\u001b[0m\u001b[1;33m:\u001b[0m\u001b[1;33m\u001b[0m\u001b[1;33m\u001b[0m\u001b[0m\n",
      "\u001b[1;32m~\\anaconda3\\lib\\site-packages\\sklearn\\base.py\u001b[0m in \u001b[0;36m_repr_html_inner\u001b[1;34m(self)\u001b[0m\n\u001b[0;32m    458\u001b[0m         \u001b[0mon\u001b[0m\u001b[0;31m \u001b[0m\u001b[0;31m`\u001b[0m\u001b[0mget_config\u001b[0m\u001b[1;33m(\u001b[0m\u001b[1;33m)\u001b[0m\u001b[1;33m[\u001b[0m\u001b[1;34m\"display\"\u001b[0m\u001b[1;33m]\u001b[0m\u001b[0;31m`\u001b[0m\u001b[1;33m.\u001b[0m\u001b[1;33m\u001b[0m\u001b[1;33m\u001b[0m\u001b[0m\n\u001b[0;32m    459\u001b[0m         \"\"\"\n\u001b[1;32m--> 460\u001b[1;33m         \u001b[1;32mreturn\u001b[0m \u001b[0mestimator_html_repr\u001b[0m\u001b[1;33m(\u001b[0m\u001b[0mself\u001b[0m\u001b[1;33m)\u001b[0m\u001b[1;33m\u001b[0m\u001b[1;33m\u001b[0m\u001b[0m\n\u001b[0m\u001b[0;32m    461\u001b[0m \u001b[1;33m\u001b[0m\u001b[0m\n\u001b[0;32m    462\u001b[0m     \u001b[1;32mdef\u001b[0m \u001b[0m_repr_mimebundle_\u001b[0m\u001b[1;33m(\u001b[0m\u001b[0mself\u001b[0m\u001b[1;33m,\u001b[0m \u001b[1;33m**\u001b[0m\u001b[0mkwargs\u001b[0m\u001b[1;33m)\u001b[0m\u001b[1;33m:\u001b[0m\u001b[1;33m\u001b[0m\u001b[1;33m\u001b[0m\u001b[0m\n",
      "\u001b[1;32m~\\anaconda3\\lib\\site-packages\\sklearn\\utils\\_estimator_html_repr.py\u001b[0m in \u001b[0;36mestimator_html_repr\u001b[1;34m(estimator)\u001b[0m\n\u001b[0;32m    312\u001b[0m                   \u001b[1;34mf'<div id=\"{container_id}\" class\"sk-top-container\">'\u001b[0m\u001b[1;33m\u001b[0m\u001b[1;33m\u001b[0m\u001b[0m\n\u001b[0;32m    313\u001b[0m                   '<div class=\"sk-container\">')\n\u001b[1;32m--> 314\u001b[1;33m         _write_estimator_html(out, estimator, estimator.__class__.__name__,\n\u001b[0m\u001b[0;32m    315\u001b[0m                               str(estimator), first_call=True)\n\u001b[0;32m    316\u001b[0m         \u001b[0mout\u001b[0m\u001b[1;33m.\u001b[0m\u001b[0mwrite\u001b[0m\u001b[1;33m(\u001b[0m\u001b[1;34m'</div></div>'\u001b[0m\u001b[1;33m)\u001b[0m\u001b[1;33m\u001b[0m\u001b[1;33m\u001b[0m\u001b[0m\n",
      "\u001b[1;32m~\\anaconda3\\lib\\site-packages\\sklearn\\utils\\_estimator_html_repr.py\u001b[0m in \u001b[0;36m_write_estimator_html\u001b[1;34m(out, estimator, estimator_label, estimator_label_details, first_call)\u001b[0m\n\u001b[0;32m    131\u001b[0m         \u001b[1;32mfor\u001b[0m \u001b[0mest\u001b[0m\u001b[1;33m,\u001b[0m \u001b[0mname\u001b[0m\u001b[1;33m,\u001b[0m \u001b[0mname_details\u001b[0m \u001b[1;32min\u001b[0m \u001b[0mest_infos\u001b[0m\u001b[1;33m:\u001b[0m\u001b[1;33m\u001b[0m\u001b[1;33m\u001b[0m\u001b[0m\n\u001b[0;32m    132\u001b[0m             \u001b[1;32mif\u001b[0m \u001b[0mkind\u001b[0m \u001b[1;33m==\u001b[0m \u001b[1;34m'serial'\u001b[0m\u001b[1;33m:\u001b[0m\u001b[1;33m\u001b[0m\u001b[1;33m\u001b[0m\u001b[0m\n\u001b[1;32m--> 133\u001b[1;33m                 \u001b[0m_write_estimator_html\u001b[0m\u001b[1;33m(\u001b[0m\u001b[0mout\u001b[0m\u001b[1;33m,\u001b[0m \u001b[0mest\u001b[0m\u001b[1;33m,\u001b[0m \u001b[0mname\u001b[0m\u001b[1;33m,\u001b[0m \u001b[0mname_details\u001b[0m\u001b[1;33m)\u001b[0m\u001b[1;33m\u001b[0m\u001b[1;33m\u001b[0m\u001b[0m\n\u001b[0m\u001b[0;32m    134\u001b[0m             \u001b[1;32melse\u001b[0m\u001b[1;33m:\u001b[0m  \u001b[1;31m# parallel\u001b[0m\u001b[1;33m\u001b[0m\u001b[1;33m\u001b[0m\u001b[0m\n\u001b[0;32m    135\u001b[0m                 \u001b[0mout\u001b[0m\u001b[1;33m.\u001b[0m\u001b[0mwrite\u001b[0m\u001b[1;33m(\u001b[0m\u001b[1;34m'<div class=\"sk-parallel-item\">'\u001b[0m\u001b[1;33m)\u001b[0m\u001b[1;33m\u001b[0m\u001b[1;33m\u001b[0m\u001b[0m\n",
      "\u001b[1;32m~\\anaconda3\\lib\\site-packages\\sklearn\\utils\\_estimator_html_repr.py\u001b[0m in \u001b[0;36m_write_estimator_html\u001b[1;34m(out, estimator, estimator_label, estimator_label_details, first_call)\u001b[0m\n\u001b[0;32m    114\u001b[0m     \u001b[1;32melse\u001b[0m\u001b[1;33m:\u001b[0m\u001b[1;33m\u001b[0m\u001b[1;33m\u001b[0m\u001b[0m\n\u001b[0;32m    115\u001b[0m         \u001b[1;32mwith\u001b[0m \u001b[0mconfig_context\u001b[0m\u001b[1;33m(\u001b[0m\u001b[0mprint_changed_only\u001b[0m\u001b[1;33m=\u001b[0m\u001b[1;32mTrue\u001b[0m\u001b[1;33m)\u001b[0m\u001b[1;33m:\u001b[0m\u001b[1;33m\u001b[0m\u001b[1;33m\u001b[0m\u001b[0m\n\u001b[1;32m--> 116\u001b[1;33m             \u001b[0mest_block\u001b[0m \u001b[1;33m=\u001b[0m \u001b[0m_get_visual_block\u001b[0m\u001b[1;33m(\u001b[0m\u001b[0mestimator\u001b[0m\u001b[1;33m)\u001b[0m\u001b[1;33m\u001b[0m\u001b[1;33m\u001b[0m\u001b[0m\n\u001b[0m\u001b[0;32m    117\u001b[0m \u001b[1;33m\u001b[0m\u001b[0m\n\u001b[0;32m    118\u001b[0m     \u001b[1;32mif\u001b[0m \u001b[0mest_block\u001b[0m\u001b[1;33m.\u001b[0m\u001b[0mkind\u001b[0m \u001b[1;32min\u001b[0m \u001b[1;33m(\u001b[0m\u001b[1;34m'serial'\u001b[0m\u001b[1;33m,\u001b[0m \u001b[1;34m'parallel'\u001b[0m\u001b[1;33m)\u001b[0m\u001b[1;33m:\u001b[0m\u001b[1;33m\u001b[0m\u001b[1;33m\u001b[0m\u001b[0m\n",
      "\u001b[1;32m~\\anaconda3\\lib\\site-packages\\sklearn\\utils\\_estimator_html_repr.py\u001b[0m in \u001b[0;36m_get_visual_block\u001b[1;34m(estimator)\u001b[0m\n\u001b[0;32m     82\u001b[0m     \"\"\"\n\u001b[0;32m     83\u001b[0m     \u001b[1;32mwith\u001b[0m \u001b[0msuppress\u001b[0m\u001b[1;33m(\u001b[0m\u001b[0mAttributeError\u001b[0m\u001b[1;33m)\u001b[0m\u001b[1;33m:\u001b[0m\u001b[1;33m\u001b[0m\u001b[1;33m\u001b[0m\u001b[0m\n\u001b[1;32m---> 84\u001b[1;33m         \u001b[1;32mreturn\u001b[0m \u001b[0mestimator\u001b[0m\u001b[1;33m.\u001b[0m\u001b[0m_sk_visual_block_\u001b[0m\u001b[1;33m(\u001b[0m\u001b[1;33m)\u001b[0m\u001b[1;33m\u001b[0m\u001b[1;33m\u001b[0m\u001b[0m\n\u001b[0m\u001b[0;32m     85\u001b[0m \u001b[1;33m\u001b[0m\u001b[0m\n\u001b[0;32m     86\u001b[0m     \u001b[1;32mif\u001b[0m \u001b[0misinstance\u001b[0m\u001b[1;33m(\u001b[0m\u001b[0mestimator\u001b[0m\u001b[1;33m,\u001b[0m \u001b[0mstr\u001b[0m\u001b[1;33m)\u001b[0m\u001b[1;33m:\u001b[0m\u001b[1;33m\u001b[0m\u001b[1;33m\u001b[0m\u001b[0m\n",
      "\u001b[1;32m~\\anaconda3\\lib\\site-packages\\sklearn\\compose\\_column_transformer.py\u001b[0m in \u001b[0;36m_sk_visual_block_\u001b[1;34m(self)\u001b[0m\n\u001b[0;32m    617\u001b[0m                                  [('remainder', self.remainder, '')])\n\u001b[0;32m    618\u001b[0m \u001b[1;33m\u001b[0m\u001b[0m\n\u001b[1;32m--> 619\u001b[1;33m         \u001b[0mnames\u001b[0m\u001b[1;33m,\u001b[0m \u001b[0mtransformers\u001b[0m\u001b[1;33m,\u001b[0m \u001b[0mname_details\u001b[0m \u001b[1;33m=\u001b[0m \u001b[0mzip\u001b[0m\u001b[1;33m(\u001b[0m\u001b[1;33m*\u001b[0m\u001b[0mtransformers\u001b[0m\u001b[1;33m)\u001b[0m\u001b[1;33m\u001b[0m\u001b[1;33m\u001b[0m\u001b[0m\n\u001b[0m\u001b[0;32m    620\u001b[0m         return _VisualBlock('parallel', transformers,\n\u001b[0;32m    621\u001b[0m                             names=names, name_details=name_details)\n",
      "\u001b[1;31mValueError\u001b[0m: not enough values to unpack (expected 3, got 2)"
     ]
    },
    {
     "data": {
      "text/plain": [
       "Pipeline(steps=[('columntransformer',\n",
       "                 ColumnTransformer(transformers=[('categorical_processor',\n",
       "                                                  ['gender', 'city', 'nmame']),\n",
       "                                                 ('numerical',\n",
       "                                                  Pipeline(steps=[('imputation '\n",
       "                                                                   'mean',\n",
       "                                                                   SimpleImputer()),\n",
       "                                                                  ('scaler',\n",
       "                                                                   StandardScaler())]),\n",
       "                                                  ['age', 'height', 'sex'])])),\n",
       "                ('logisticregression', LogisticRegression())])"
      ]
     },
     "execution_count": 82,
     "metadata": {},
     "output_type": "execute_result"
    }
   ],
   "source": [
    "pipe"
   ]
  },
  {
   "cell_type": "code",
   "execution_count": null,
   "id": "a68e510e",
   "metadata": {},
   "outputs": [],
   "source": []
  }
 ],
 "metadata": {
  "kernelspec": {
   "display_name": "Python 3 (ipykernel)",
   "language": "python",
   "name": "python3"
  },
  "language_info": {
   "codemirror_mode": {
    "name": "ipython",
    "version": 3
   },
   "file_extension": ".py",
   "mimetype": "text/x-python",
   "name": "python",
   "nbconvert_exporter": "python",
   "pygments_lexer": "ipython3",
   "version": "3.9.7"
  }
 },
 "nbformat": 4,
 "nbformat_minor": 5
}
